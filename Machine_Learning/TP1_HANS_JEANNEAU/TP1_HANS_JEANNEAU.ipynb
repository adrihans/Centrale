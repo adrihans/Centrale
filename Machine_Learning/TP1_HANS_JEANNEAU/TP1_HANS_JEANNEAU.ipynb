{
 "cells": [
  {
   "cell_type": "markdown",
   "metadata": {},
   "source": [
    "# TP1 : Linear regression"
   ]
  },
  {
   "cell_type": "markdown",
   "metadata": {},
   "source": [
    "The purpose of this work is to implement least square linear regression to medical data. The problem is based on an example described in the book by Hastie & Tibshirani (2009) pp. 3-4 & 49-63. Data come from a study published by Stamey et al. (1989). This study aims at the prediction of the level of prostate specific antigen, denoted by `lpsa` below, from the\n",
    "results of clinical exams. These exams are carried out before a possible\n",
    "prostatectomy.\n",
    "\n",
    "The measurements are log cancer volume `lcavol`, log prostate \n",
    "weight `lweight`, age of the patient `age`, log of benign prostatic \n",
    "hyperplasia amount `lbph`, seminal vesicle invasion `svi`, log of capsular \n",
    "penetration `lcp`, Gleason score `gleason`, and percent of Gleason scores 4 or \n",
    "5 `pgg45`. The variables `svi` and `gleason` are categorical, others are\n",
    "quantitative. There are `p=8` entries.\n",
    "The work is decomposed in the following tasks:\n",
    "\n",
    "* read and format the data : extraction of the training and test sets,\n",
    "* apply least square regression method to predict `lpsa` from the entries,\n",
    "* study the estimated error on the test set (validation),\n",
    "* identify the most significant entries by using a rejection test,\n",
    "* apply regularized least square regression method (ridge regression),\n",
    "* search for an optimal regularization parameter thanks to\n",
    "cross-validation."
   ]
  },
  {
   "cell_type": "code",
   "execution_count": 1,
   "metadata": {},
   "outputs": [],
   "source": [
    "import csv\n",
    "# import os\n",
    "import numpy as np\n",
    "from numpy import linalg as la\n",
    "\n",
    "import seaborn as sns\n",
    "import matplotlib.pyplot as plt"
   ]
  },
  {
   "cell_type": "markdown",
   "metadata": {},
   "source": [
    "We have also choosen to import matplotlib.pyplot and seaborn to visualize our results"
   ]
  },
  {
   "cell_type": "markdown",
   "metadata": {},
   "source": [
    "## Read & Normalize data\n",
    "Data are stored in ASCII format: \n",
    "\n",
    "* the first column enumerates the data from 1 à 97 (97 male subjects). \n",
    "* columns 2 to 9 contain the entries themselves. \n",
    "* column 10 contains target values. \n",
    "* column 11 contains label 1 for the training set, \n",
    "and 2 for the test set."
   ]
  },
  {
   "cell_type": "code",
   "execution_count": 2,
   "metadata": {},
   "outputs": [],
   "source": [
    "#%% To read data from spaced separated float numbers\n",
    "# x, y = np.loadtxt(c, delimiter=',', usecols=(0, 2), unpack=True)\n",
    "\n",
    "data_init = np.loadtxt('prostate_data_sansheader.txt')\n",
    "\n",
    "data = data_init[:,1:]   # we get rid of the indices (1 to 97)\n",
    "\n",
    "#%% Extraction of training/test sets\n",
    "Itrain = np.nonzero(data[:,-1]==1)\n",
    "data_train=data[Itrain]   # original data\n",
    "\n",
    "Itest = np.nonzero(data[:,-1]==0)\n",
    "data_test = data[Itest]   # original data"
   ]
  },
  {
   "cell_type": "markdown",
   "metadata": {},
   "source": [
    "Below is a sample of both train and test set:"
   ]
  },
  {
   "cell_type": "code",
   "execution_count": 3,
   "metadata": {},
   "outputs": [
    {
     "name": "stdout",
     "output_type": "stream",
     "text": [
      "TRAIN: [-0.5798185   2.769459   50.         -1.38629436  0.         -1.38629436\n",
      "  6.          0.         -0.4307829   1.        ]\n",
      "TEST:  [ 0.73716407  3.473518   64.          0.61518564  0.         -1.38629436\n",
      "  6.          0.          0.7654678   0.        ]\n"
     ]
    }
   ],
   "source": [
    "print('TRAIN: {}'.format(data_train[0]))\n",
    "print('TEST:  {}'.format(data_test[0]))"
   ]
  },
  {
   "cell_type": "markdown",
   "metadata": {},
   "source": [
    "**Normalization of the data** *with respect to the mean and standard deviation of the training set*."
   ]
  },
  {
   "cell_type": "code",
   "execution_count": 4,
   "metadata": {},
   "outputs": [],
   "source": [
    "M_train = data_train\n",
    "M_test = data_test \n",
    "moy = np.zeros((8,))\n",
    "sigma = np.zeros((8,))\n",
    "\n",
    "# With a FOR loop :\n",
    "for k in range(8): # 8 columns of entries\n",
    "    moy[k]=np.mean(data_train[:,k])\n",
    "    sigma[k] = np.std(data_train[:,k])\n",
    "    M_train[:,k] = (data_train[:,k]-moy[k])/sigma[k] # normalized: centered, variance 1\n",
    "    M_test[:,k] = (data_test[:,k]-moy[k])/sigma[k]   # same normalization for test set"
   ]
  },
  {
   "cell_type": "code",
   "execution_count": 5,
   "metadata": {},
   "outputs": [],
   "source": [
    "# Alternative WITHOUT FOR\n",
    "normalize = lambda vec: (vec-np.mean(vec))/np.std(vec)    # inline function \n",
    "M_train = np.array( [ normalize(vec) for vec in data_train[:,0:8].T ] ).T  # iterate on vec direct / ARRAY not LIST\n",
    "moy = np.array( [ np.mean(vec) for vec in data_train[:,0:8].T ] )\n",
    "sigma = np.array( [ np.std(vec) for vec in data_train[:,0:8].T ] )\n",
    "\n",
    "M_test = np.array([ (data_test[:,k]-moy[k])/sigma[k] for k in range(M_train.shape[1]) ] ).T"
   ]
  },
  {
   "cell_type": "markdown",
   "metadata": {},
   "source": [
    "# Part 1 : simple least square regression"
   ]
  },
  {
   "cell_type": "markdown",
   "metadata": {},
   "source": [
    "## Preliminary questions\n",
    " \n",
    " * Compute the autocovariance matrix from the training set.\n",
    " * Observe carefully & Comment. What kind of information can you get ? "
   ]
  },
  {
   "cell_type": "code",
   "execution_count": 6,
   "metadata": {
    "scrolled": false
   },
   "outputs": [
    {
     "data": {
      "text/plain": [
       "<matplotlib.axes._subplots.AxesSubplot at 0x7fe49b2b0a58>"
      ]
     },
     "execution_count": 6,
     "metadata": {},
     "output_type": "execute_result"
    },
    {
     "data": {
      "image/png": "[encoded data removed]",
      "text/plain": [
       "<Figure size 432x288 with 2 Axes>"
      ]
     },
     "metadata": {
      "needs_background": "light"
     },
     "output_type": "display_data"
    }
   ],
   "source": [
    "# Preliminary questions\n",
    "AC = np.cov(M_train, rowvar=False)\n",
    "\n",
    "sns.heatmap(AC, cmap='viridis')"
   ]
  },
  {
   "cell_type": "markdown",
   "metadata": {},
   "source": [
    "The above figure is the autocovariance matrix computed from the train set, and visualized with a heatmap.\n",
    "\n",
    "The autocovariance matrix (on columns) has values in $[-1, 1]$ and carries information on variables correlations:\n",
    "\n",
    "The greater $|A_{i, j}|$ is, the more the variables $i$ and $j$ will be correlated, positively or negatively. If $|A_{i, j}| = 1$, the two variables are identical, ignoring a multiplication factor of the same sign as $A_{i, j}$. The closer $A_{i, j}$ is to $0$, the more the two variables will be independents.\n",
    "\n",
    "It is then logical for $A$ to be symetrical, and for its diagonal to be filled with $1$.\n",
    "\n",
    "Here we can see that among our 8 variables, none have a covariance of 1 nor -1, which means that all of our variables convey a different and complementary information. No two different variables have a covariance higher than 0.8."
   ]
  },
  {
   "cell_type": "markdown",
   "metadata": {},
   "source": [
    "## Exercise 1 : least square regression \n",
    " * Build the matrix of features `X_train` for the training set, the first column is made of ones.\n",
    " * Estimate the regression vector `beta_hat` (estimates= `X*beta_hat`)\n",
    " _Indication: you may either use the function `inv` or another more efficient way to compute $A^{-1}B$ (think of `A\\B`)._ \n",
    " * What is the value of the first coefficient `beta_hat[0]` ? What does it correspond to ?\n",
    " * Estimate the prediction error (quadratic error) from the test set.\n",
    "\n",
    "\n",
    "*Indication: be careful of using `X_test` defined above, normalized w.r.t. the training data set. You can estimate this error by using:*"
   ]
  },
  {
   "cell_type": "code",
   "execution_count": 7,
   "metadata": {},
   "outputs": [],
   "source": [
    "t_test = data_test[:,8]   # target column\n",
    "N_test = data_test.shape[0]\n",
    "X_test = np.concatenate((np.ones((N_test,1)), M_test[:,0:8]), axis=1) \n",
    "# don't forget the 1st column of ones and normalization !"
   ]
  },
  {
   "cell_type": "markdown",
   "metadata": {},
   "source": [
    "We use the same procedure to buld $X_{train}$ than for $X_{test}$"
   ]
  },
  {
   "cell_type": "code",
   "execution_count": 8,
   "metadata": {},
   "outputs": [],
   "source": [
    "t_train = data_train[:,8]   # target column\n",
    "N_train = data_train.shape[0]\n",
    "X_train = np.concatenate((np.ones((N_train,1)), M_train[:,0:8]), axis=1) \n",
    "# don't forget the 1st column of ones and normalization !"
   ]
  },
  {
   "cell_type": "markdown",
   "metadata": {},
   "source": [
    "We create a function that returns $\\hat{\\beta}$ given $X$ and $t$, since we will use it again in the next exercise. $X$ and $t$ must both be np.array, for we use numpy's built-in functions"
   ]
  },
  {
   "cell_type": "code",
   "execution_count": 9,
   "metadata": {
    "scrolled": true
   },
   "outputs": [
    {
     "name": "stdout",
     "output_type": "stream",
     "text": [
      "beta_hat on train set: [ 2.45234509  0.71104059  0.29045029 -0.14148182  0.21041951  0.30730025\n",
      " -0.28684075 -0.02075686  0.27526843]\n",
      "\n",
      "mean train target: 2.45234509\n"
     ]
    }
   ],
   "source": [
    "def beta_hat(X, t):\n",
    "    return la.inv(X.T.dot(X)).dot(X.T).dot(t)\n",
    "\n",
    "beta_hat_train = beta_hat(X_train, t_train)\n",
    "print('beta_hat on train set: {}\\n'.format(beta_hat_train))\n",
    "\n",
    "print('mean train target: {:.8f}'.format(t_train.mean()))"
   ]
  },
  {
   "cell_type": "markdown",
   "metadata": {},
   "source": [
    "Here `beta_hat[0] = 2.45`, which corresponds to target bias, i.e. the average output value, on the train set\n",
    "\n",
    "We then create the following functions to compute predictions on $X_{test}$ given $\\hat{\\beta}$, and then get the error between the prediction and the ground truth."
   ]
  },
  {
   "cell_type": "code",
   "execution_count": 10,
   "metadata": {},
   "outputs": [
    {
     "data": {
      "text/plain": [
       "15.638220165228017"
      ]
     },
     "execution_count": 10,
     "metadata": {},
     "output_type": "execute_result"
    }
   ],
   "source": [
    "def prediction(beta_hat_train, X_test):\n",
    "    return X_test.dot(beta_hat_train)\n",
    "\n",
    "def prediction_error(t_test, t_pred):\n",
    "    return la.norm((t_test - t_pred))**2\n",
    "\n",
    "t_pred = prediction(beta_hat_train, X_test)\n",
    "prediction_error(t_test, t_pred)"
   ]
  },
  {
   "cell_type": "markdown",
   "metadata": {},
   "source": [
    "In this case, we find an error of 15.64 on the test set"
   ]
  },
  {
   "cell_type": "markdown",
   "metadata": {},
   "source": [
    "## Rejection test, computation of Z-scores\n",
    "Now we turn to the selection of the most significant entries so that our predictor be more robust. The essential idea is that our estimates will be more robust if only the most significant entries are taken into account. As a consequence, note that we will *reduce the dimension* of the problem from |p=8| to some smaller dimension. The present approach uses a statistical test to decide whether the regression coefficient corresponding to some entry is significantly non-zero. Then we can decide either to put non significant coefficients to zero, or to select the significant entries only and estimate the new reduced regression vector.\n",
    "\n",
    "Let's assume that target values are noisy due to some white Gaussian\n",
    "noise with variance $\\sigma^2$ (see Hastie & Tibshirani p. 47). One can show that the estimated regression vector |beta_hat| is also Gaussian with variance\n",
    "\n",
    "$$ var (\\widehat{\\beta}) = (X^TX)^{-1}\\sigma^2.$$  \n",
    "\n",
    "One can also show that the estimator of the variance (from the training set)\n",
    "\n",
    "$$\\widehat{\\sigma^2}=\\frac{1}{(N-p-1)}\\sum (t_n-\\widehat{t}_n)^2$$\n",
    "\n",
    "obeys a Chi-2 distribution. As a consequence a Chi-square statistical test can be used to determine whether some coefficient $\\beta_j$ is\n",
    "significantly non-zero. To this aim, one defines the variables $z_j$\n",
    "named Z-scores which in turn obey a Fisher law, also called\n",
    "$t$-distribution, which are often used in statistics:\n",
    "\n",
    "$$ z_j = \\frac{\\beta_j}{\\widehat{\\sigma}\\sqrt{v_j}} $$\n",
    "\n",
    "where $v_j$ is the $j$-th diagonal element of the matrix $(X^TX)^{-1}$.\n",
    "For sake of simplicity, we will consider that the null hypothesis of\n",
    "$\\beta_j$ is rejected with probability 95% if the Z-score is greater than 2."
   ]
  },
  {
   "cell_type": "markdown",
   "metadata": {},
   "source": [
    "## Exercise 2\n",
    "1. Compute the Z-scores and select the most significant entries.\n",
    "2. Estimate the prediction error over the test set if only these significant \n",
    "entries are taken into account for regression by putting other regression \n",
    "coefficients to zero.\n",
    "3. Estimate the new regression vector when only the significant features\n",
    "are taken into account.\n",
    "4. Compare to previous results (Exercise 1)."
   ]
  },
  {
   "cell_type": "markdown",
   "metadata": {},
   "source": [
    "1. We now want to compute the Z-scores. To do so, we compute $\\hat{\\beta}$, then $t_{pred}$ to compute $\\hat{\\sigma}$, then $V$ and finally the Z-scores"
   ]
  },
  {
   "cell_type": "code",
   "execution_count": 11,
   "metadata": {},
   "outputs": [
    {
     "name": "stdout",
     "output_type": "stream",
     "text": [
      "Z-scores:\n",
      "[27.93752694  5.31982819  2.72697258 -1.38382296  2.03804576  2.44787594\n",
      " -1.85074859 -0.14541122  1.72279321]\n"
     ]
    }
   ],
   "source": [
    "p_train = X_train.shape[1]\n",
    "# Compute Beta hat\n",
    "beta_hat_train = beta_hat(X_train, t_train)\n",
    "t_pred = np.dot(X_train, beta_hat_train)\n",
    "# Compute Sigma hat\n",
    "sigma_hat = np.sqrt(1 / (N_train - p_train - 1) * np.sum((t_pred - t_train)**2))\n",
    "# Compute the V_js\n",
    "V = np.sqrt(la.inv(X_train.T.dot(X_train)).diagonal())\n",
    "# Divide Beta hat by Sigma hat\n",
    "Z = beta_hat_train / V / sigma_hat\n",
    "\n",
    "print('Z-scores:\\n{}'.format(Z))"
   ]
  },
  {
   "cell_type": "markdown",
   "metadata": {},
   "source": [
    "2. We can now select the most meaningful variables only, i.e those whose z-score is greater or equals to 2, and get rid of the less meaningful variables by nullifyng their beta "
   ]
  },
  {
   "cell_type": "code",
   "execution_count": 12,
   "metadata": {},
   "outputs": [
    {
     "name": "stdout",
     "output_type": "stream",
     "text": [
      "beta_hat when replacing least meaningful variables by 0:\n",
      "[ 2.45234509  0.71104059  0.29045029 -0.          0.21041951  0.30730025\n",
      " -0.         -0.          0.        ]\n"
     ]
    }
   ],
   "source": [
    "threshold=2\n",
    "mask = (np.abs(Z) > threshold)\n",
    "beta_z = mask * beta_hat_train\n",
    "\n",
    "print('beta_hat when replacing least meaningful variables by 0:\\n{}'.format(beta_z))"
   ]
  },
  {
   "cell_type": "markdown",
   "metadata": {},
   "source": [
    "We get an error of 13.57, which is lower than the one obtained previously with a regular least-sqare linear regression"
   ]
  },
  {
   "cell_type": "code",
   "execution_count": 13,
   "metadata": {},
   "outputs": [
    {
     "data": {
      "text/plain": [
       "13.56679848219329"
      ]
     },
     "execution_count": 13,
     "metadata": {},
     "output_type": "execute_result"
    }
   ],
   "source": [
    "t_pred = prediction(beta_z, X_test)\n",
    "prediction_error(t_test, t_pred)"
   ]
  },
  {
   "cell_type": "markdown",
   "metadata": {},
   "source": [
    "3. We follow the same idea, but this time removing the least meaningful variables before computing $\\hat{\\beta}$ instead of replacing them by 0 in the already-computed $\\hat{\\beta}$"
   ]
  },
  {
   "cell_type": "code",
   "execution_count": 14,
   "metadata": {},
   "outputs": [
    {
     "name": "stdout",
     "output_type": "stream",
     "text": [
      "beta_hat with only most meaningful variables according to the Z-scores:\n",
      "[2.45234509 0.62345    0.25488273 0.20339287 0.2800554 ]\n"
     ]
    },
    {
     "data": {
      "text/plain": [
       "13.689963661204871"
      ]
     },
     "execution_count": 14,
     "metadata": {},
     "output_type": "execute_result"
    }
   ],
   "source": [
    "threshold = 2\n",
    "mask = (np.abs(Z) > threshold)\n",
    "X_train_selected = np.array([x[mask] for x in X_train])\n",
    "X_test_selected = np.array([x[mask] for x in X_test])\n",
    "beta_hat_train_selected = beta_hat(X_train_selected, t_train)\n",
    "print('beta_hat with only most meaningful variables according to the Z-scores:\\n{}'.format(beta_hat_train_selected))\n",
    "t_pred_selected = prediction(beta_hat_train_selected, X_test_selected)\n",
    "prediction_error(t_test, t_pred_selected)"
   ]
  },
  {
   "cell_type": "markdown",
   "metadata": {},
   "source": [
    "We find a prediction error slightly higher to the one found at 2., but much lower than the one found at the Ex.1 without selection on Z-scores.\n",
    "\n",
    "We can notice that the $\\beta_j$ found here differ slightly from the ones computed previously. This makes sense, since the computation of $\\beta$ involves a product of several  $X$ and $X^T$. $\\beta_j$ depends on all $X_i$, even the least significants that will be nulled afterwards. If we delete them before the computation of $\\beta$, these higher-order terms will not appear in the process and the result will therefore be different."
   ]
  },
  {
   "cell_type": "markdown",
   "metadata": {},
   "source": [
    "# Part 2: Regularized least squares\n",
    "This part deals with regularized least square regression. We denote\n",
    "by `beta_hat_reg` the resulting coefficients. This approach is an alternative to the selection based on statistical tests above. The idea is now to penalize large values of regression coefficients, *except for the bias*.\n",
    "\n",
    "We use the result:\n",
    "\n",
    "$$\\hat{\\beta} = (\\lambda I_p + X_c^T X_c)^{-1} X_c^T t_c$$\n",
    "\n",
    "where $X_c$ contains the normalized entries of the training data set with \n",
    "no column of ones (the bias should no be penalized and is processed). \n",
    "The targets `t_c` are therefore also centered, `t_c=t-mean(t)`.\n",
    " \n",
    "First, we estimate the bias $t_0$ to center the targets which yields the coefficient $\\beta_0$, that is `beta_hat_reg[0]` in Python.\n",
    "\n",
    "*Remark : the bias is estimated as the empirical average of targets.\n",
    "For tests, entries should be normalized with respect to the means and\n",
    "variances of the training data set (see exercise 3.5 p. 95 in Hastie & Tibshirani). Then work on the vector of entries with no column of ones.*"
   ]
  },
  {
   "cell_type": "markdown",
   "metadata": {},
   "source": [
    "## Exercise 3\n",
    "1. Use _ridge regression_ for penalty `lambda = 25` to estimate the regression vector. \n",
    "2. Estimate the prediction error from the test set.\n",
    "3. Compare the results (coefficients $\\beta$, error...) to previous ones.\n",
    "4. You may also compare these results to the result of best subset selection below:\n",
    "\n",
    "`beta_best = [2.477 0.74 0.316 0 0 0 0 0 0]`.\n",
    "\n",
    "*Indication : a simple way to obtain predictions for the test data set is the code below:*"
   ]
  },
  {
   "cell_type": "code",
   "execution_count": 15,
   "metadata": {},
   "outputs": [],
   "source": [
    "t = data_train[:,8]   # column of targets\n",
    "t0 = np.mean(t)\n",
    "t_c = t - t0\n",
    "\n",
    "N_test = data_test.shape[0]\n",
    "X_test = np.hstack((np.ones((N_test,1)), M_test[:,0:8]))\n",
    "# Here the 1st column of X_test is a column of ones.\n",
    "beta_best = np.array([2.477, 0.74, 0.316, 0, 0, 0, 0, 0, 0])"
   ]
  },
  {
   "cell_type": "markdown",
   "metadata": {},
   "source": [
    "We now implement the regularized linear least-square regression. The difference between this and the least-sqare regression is the regularization term, that penalize high regression coefficient, and aims at a better generalization capability. Also, it is important to exclude the bias from the computation of beta, we dont want to penalize the bias. This is why we use the matrix $M_{train}$, i.e. $X_{train}$ without the 1 column for the bias, and add the bias $t_0$ afterwards"
   ]
  },
  {
   "cell_type": "code",
   "execution_count": 16,
   "metadata": {},
   "outputs": [
    {
     "name": "stdout",
     "output_type": "stream",
     "text": [
      "Regularized beta_hat:\n",
      "[ 2.45234509  0.4221092   0.24879171 -0.04226499  0.16575364  0.23091485\n",
      "  0.01066329  0.04306017  0.13151316]\n"
     ]
    }
   ],
   "source": [
    "def beta_hat_reg(X, t, lbd=25):\n",
    "    d = X.shape[1]\n",
    "    beta = la.inv(lbd*np.identity(d) + X.T.dot(X)).dot(X.T).dot(t)\n",
    "    return np.concatenate([[t0], beta])\n",
    "\n",
    "beta_hat_reg_train = beta_hat_reg(M_train, t_c)\n",
    "print('Regularized beta_hat:\\n{}'.format(beta_hat_reg_train))"
   ]
  },
  {
   "cell_type": "markdown",
   "metadata": {},
   "source": [
    "We now obtain an error of 14.82, which is lower than the error obtained without regularization (15.63). It is almost identical, however slightly higher than the error obtained with the \"best beta\" given above."
   ]
  },
  {
   "cell_type": "code",
   "execution_count": 17,
   "metadata": {},
   "outputs": [
    {
     "data": {
      "text/plain": [
       "14.818264797356152"
      ]
     },
     "execution_count": 17,
     "metadata": {},
     "output_type": "execute_result"
    }
   ],
   "source": [
    "t_pred = prediction(beta_hat_reg_train, X_test)\n",
    "prediction_error(t_test, t_pred)"
   ]
  },
  {
   "cell_type": "code",
   "execution_count": 18,
   "metadata": {},
   "outputs": [
    {
     "data": {
      "text/plain": [
       "14.81060103332949"
      ]
     },
     "execution_count": 18,
     "metadata": {},
     "output_type": "execute_result"
    }
   ],
   "source": [
    "t_pred = prediction(beta_best, X_test)\n",
    "prediction_error(t_test, t_pred)"
   ]
  },
  {
   "cell_type": "markdown",
   "metadata": {},
   "source": [
    "It is interesting to note that the error is higher than the one obtained doing feature selection with Z-scores (13.57)."
   ]
  },
  {
   "cell_type": "markdown",
   "metadata": {},
   "source": [
    "# Part 3: Cross-Validation \n",
    "\n",
    "## How to choose lambda from the training data set only ? \n",
    "\n",
    "The idea is to decompose the training set in 2 subsets: one subset for\n",
    "linear regression (say 9/10 of the data), the other to estimate the prediction error (say 1/10 of the data).\n",
    "\n",
    "We can repeat this operation 10 times over the 10 possible couples of\n",
    "subsets to estimate the average prediction error. We will choose the\n",
    "value of `lambda` which minimizes this error. The algorithm goes as\n",
    "follows:\n",
    "\n",
    "For the 10 cross-validation cases\n",
    "    \n",
    "    Extraction of test & training subsets `testset` & `trainset`\n",
    "    \n",
    "    For lambda in 0:40\n",
    "        Estimate `beta_hat` from normalized `trainset` (mean=0, var=1)\n",
    "        Estimate the error from  `testset`\n",
    "    EndFor lambda\n",
    "\n",
    "EndFor 10 cases\n",
    "\n",
    "Compute the average error for each lambda\n",
    "\n",
    "Choose `lambda` which minimizes the error \n"
   ]
  },
  {
   "cell_type": "markdown",
   "metadata": {},
   "source": [
    "## Exercise 4\n",
    "* Use 6-fold cross-validation in the present study to optimize the choice of `lambda`. \n",
    "Try values of `lambda` ranging from 0 to 40 for instance (0:40).\n",
    "* Plot the estimated error as a function of `lambda`.\n",
    "* Propose a well chosen value of `lambda` and give the estimated corresponding\n",
    "error on the test set.\n",
    "* Comment on your results.\n",
    "\n",
    "*Indication 1 : think of shuffling the dataset first.*\n",
    "\n",
    "*Indication 2 : you can build 6 training and test subsets by using the code below*"
   ]
  },
  {
   "cell_type": "code",
   "execution_count": 66,
   "metadata": {},
   "outputs": [],
   "source": [
    "lmax = 40\n",
    "lambda_pos = range(0,lmax+1) \n",
    "N_test = 10\n",
    "erreur = np.zeros((6,lmax+1))"
   ]
  },
  {
   "cell_type": "markdown",
   "metadata": {},
   "source": [
    "Implementing the cross validation requires us to wrap up most of what has been approached in this TP, making it a good exercise. \n",
    "\n",
    "After a quick initialization (shuffling the dataset, etc.), we loop on the number of cross-validation (here, 6). We then create the temporary test and train set from the initial train set, leaving the original test set aside to judge the final result afterwards. This dataset creation includes segmentation in test and train, normalization of both, isolation of $\\beta_0$ and concatenation of the 1 column with the test set. Then, we loop over the parameter (lambda in range(0, 41)), perform regularized linear regression as coded in the Ex.3, test the performances on the temporary test set and store it for further comparison."
   ]
  },
  {
   "cell_type": "code",
   "execution_count": 83,
   "metadata": {
    "scrolled": false
   },
   "outputs": [],
   "source": [
    "# Exercise 4 \n",
    "def crossval(data_train, N_test, lambda_max=40):\n",
    "    lambda_pos = range(0,lmax+1)\n",
    "    erreur = np.zeros((6,lmax+1))\n",
    "    data_train_shuffled = np.random.permutation(data_train)\n",
    "    for p in range(6):   # loop on test subsets\n",
    "        # extraction of testset\n",
    "        testset  = data_train_shuffled[np.arange(p*N_test,(p+1)*N_test),0:9]\n",
    "        t_test_tmp = testset[:, 8]\n",
    "        # extraction of trainset\n",
    "        trainset = data_train_shuffled[np.hstack((np.arange(p*N_test), range((p+1)*N_test,data_train_shuffled.shape[0]))),0:9] \n",
    "        # normalization of entries\n",
    "        normalize = lambda vec: (vec-np.mean(vec))/np.std(vec)    # inline function \n",
    "        M_train_tmp = np.array( [ normalize(vec) for vec in trainset[:,0:8].T ] ).T  # iterate on vec direct / ARRAY not LIST\n",
    "        moy = np.array( [ np.mean(vec) for vec in trainset[:,0:8].T ] )\n",
    "        sigma = np.array( [ np.std(vec) for vec in trainset[:,0:8].T ] )\n",
    "        M_test_tmp = np.array([ (testset[:,k]-moy[k])/sigma[k] for k in range(M_train_tmp.shape[1]) ] ).T\n",
    "        # t0\n",
    "        t_tmp = trainset[:, 8]\n",
    "        t0_tmp = np.mean(t_tmp)\n",
    "        t_c_tmp = t_tmp - t0_tmp\n",
    "        # X_test\n",
    "        X_test_tmp = np.hstack((np.ones((N_test,1)), M_test_tmp[:,0:8]))\n",
    "        # beta_hat\n",
    "        for lbd in lambda_pos:\n",
    "            beta_hat_reg_train = beta_hat_reg(M_train_tmp, t_c_tmp, lbd=lbd)\n",
    "            # Evaluation\n",
    "            t_pred = prediction(beta_hat_reg_train, X_test_tmp)\n",
    "            err = prediction_error(t_test_tmp, t_pred)\n",
    "            erreur[p, lbd] = err\n",
    "            # print('    lambda: {} erreur: {}'.format(lbd, err))\n",
    "    return erreur"
   ]
  },
  {
   "cell_type": "markdown",
   "metadata": {},
   "source": [
    "First of all, we can see a great volatility in the results. The total train set contains 67 examples, and is separated into a temporary train set of size 57 and a test set of size 10. Given the little size of the test set and the fact that we shuffle data beforehand, it is normal to see such a deviation in the results from time to time, with the same hyperparameters."
   ]
  },
  {
   "cell_type": "code",
   "execution_count": 97,
   "metadata": {
    "scrolled": false
   },
   "outputs": [
    {
     "name": "stdout",
     "output_type": "stream",
     "text": [
      "best lambda: 18\n"
     ]
    },
    {
     "data": {
      "image/png": "[encoded data removed]",
      "text/plain": [
       "<Figure size 432x288 with 1 Axes>"
      ]
     },
     "metadata": {
      "needs_background": "light"
     },
     "output_type": "display_data"
    }
   ],
   "source": [
    "erreur = crossval(data_train, 10)\n",
    "erreur_avg = [np.mean(x) for x in erreur.T]\n",
    "plt.plot(erreur_avg)\n",
    "best_lbd = np.where(erreur_avg == np.amin(erreur_avg))[0][0]\n",
    "print('best lambda: {}'.format(best_lbd))"
   ]
  },
  {
   "cell_type": "code",
   "execution_count": 99,
   "metadata": {
    "scrolled": true
   },
   "outputs": [
    {
     "name": "stdout",
     "output_type": "stream",
     "text": [
      "best lambda: 2\n"
     ]
    },
    {
     "data": {
      "image/png": "[encoded data removed]",
      "text/plain": [
       "<Figure size 432x288 with 1 Axes>"
      ]
     },
     "metadata": {
      "needs_background": "light"
     },
     "output_type": "display_data"
    }
   ],
   "source": [
    "erreur = crossval(data_train, 10)\n",
    "erreur_avg = [np.mean(x) for x in erreur.T]\n",
    "plt.plot(erreur_avg)\n",
    "best_lbd = np.where(erreur_avg == np.amin(erreur_avg))[0][0]\n",
    "print('best lambda: {}'.format(best_lbd))"
   ]
  },
  {
   "cell_type": "markdown",
   "metadata": {},
   "source": [
    "We can also see that between the 6 cross-validation samples, the difference of the error is great, with a standard seviation per lambda between 1 and 2"
   ]
  },
  {
   "cell_type": "code",
   "execution_count": 100,
   "metadata": {
    "scrolled": false
   },
   "outputs": [
    {
     "data": {
      "text/plain": [
       "[<matplotlib.lines.Line2D at 0x7fe497f5e3c8>,\n",
       " <matplotlib.lines.Line2D at 0x7fe497f5e128>,\n",
       " <matplotlib.lines.Line2D at 0x7fe497f5e6d8>,\n",
       " <matplotlib.lines.Line2D at 0x7fe497f5ed30>,\n",
       " <matplotlib.lines.Line2D at 0x7fe497f5e7f0>,\n",
       " <matplotlib.lines.Line2D at 0x7fe497f5e9b0>]"
      ]
     },
     "execution_count": 100,
     "metadata": {},
     "output_type": "execute_result"
    },
    {
     "data": {
      "image/png": "[encoded data removed]",
      "text/plain": [
       "<Figure size 432x288 with 1 Axes>"
      ]
     },
     "metadata": {
      "needs_background": "light"
     },
     "output_type": "display_data"
    }
   ],
   "source": [
    "plt.plot(erreur.T)"
   ]
  },
  {
   "cell_type": "code",
   "execution_count": 101,
   "metadata": {},
   "outputs": [
    {
     "data": {
      "text/plain": [
       "[<matplotlib.lines.Line2D at 0x7fe4980a63c8>]"
      ]
     },
     "execution_count": 101,
     "metadata": {},
     "output_type": "execute_result"
    },
    {
     "data": {
      "image/png": "[encoded data removed]",
      "text/plain": [
       "<Figure size 432x288 with 1 Axes>"
      ]
     },
     "metadata": {
      "needs_background": "light"
     },
     "output_type": "display_data"
    }
   ],
   "source": [
    "erreur_std = [x.std() for x in erreur.T]\n",
    "plt.plot(erreur_std)"
   ]
  },
  {
   "cell_type": "markdown",
   "metadata": {},
   "source": [
    "To get a better idea of the optimal lambda, we can iterate the process several times (here, 20) to get a better estimation of the best lambda value. We obtain a mean best lambda of 5.35 on 20 iterations, with a standard deviation between different tries of 5.75. This is quite a high standard deviation.\n",
    "The obtained error with this lambda is slightly lower than the one obtained with an arbitrary lambda of 25 on the same test set (14.799 vs 14.818)."
   ]
  },
  {
   "cell_type": "code",
   "execution_count": 102,
   "metadata": {
    "scrolled": true
   },
   "outputs": [
    {
     "name": "stdout",
     "output_type": "stream",
     "text": [
      "Mean best lambda on 20 iterations: 5.35\n",
      "Standard Deviation of best lambda on 20 iterations: 5.75\n"
     ]
    }
   ],
   "source": [
    "N_it = 20\n",
    "res = []\n",
    "for i in range(N_it):\n",
    "    erreur = crossval(data_train, 10)\n",
    "    erreur_avg = [np.mean(x) for x in erreur.T]\n",
    "    best_lbd = np.where(erreur_avg == np.amin(erreur_avg))[0][0]\n",
    "    res.append(best_lbd)\n",
    "print('Mean best lambda on {} iterations: {:.2f}'.format(N_it, np.mean(res)))\n",
    "print('Standard Deviation of best lambda on {} iterations: {:.2f}'.format(N_it, np.std(res)))\n",
    "best_lbd = np.mean(res)"
   ]
  },
  {
   "cell_type": "code",
   "execution_count": 103,
   "metadata": {},
   "outputs": [
    {
     "data": {
      "text/plain": [
       "14.799331477003646"
      ]
     },
     "execution_count": 103,
     "metadata": {},
     "output_type": "execute_result"
    }
   ],
   "source": [
    "beta_hat_reg_train = beta_hat_reg(M_train, t_c, lbd = best_lbd)\n",
    "t_pred = prediction(beta_hat_reg_train, X_test)\n",
    "prediction_error(t_test, t_pred)"
   ]
  },
  {
   "cell_type": "markdown",
   "metadata": {},
   "source": [
    "However, when trying different values of lambda, we realized than the \"optimal lambda\" found with the cross validation is not the best. A lambda twice as high obtains better results (14.618 vs 14.799). It is not surprising that we haven't found the best lambda, given the small size of the test sets during the cross-validation. It seems logical that such a small number could not represent the whole data distribution and is, therefore, a poor test set."
   ]
  },
  {
   "cell_type": "code",
   "execution_count": 75,
   "metadata": {},
   "outputs": [
    {
     "data": {
      "text/plain": [
       "14.61818221113153"
      ]
     },
     "execution_count": 75,
     "metadata": {},
     "output_type": "execute_result"
    }
   ],
   "source": [
    "beta_hat_reg_train = beta_hat_reg(M_train, t_c, lbd = 12)\n",
    "t_pred = prediction(beta_hat_reg_train, X_test)\n",
    "prediction_error(t_test, t_pred)"
   ]
  }
 ],
 "metadata": {
  "kernelspec": {
   "display_name": "Python 3",
   "language": "python",
   "name": "python3"
  },
  "language_info": {
   "codemirror_mode": {
    "name": "ipython",
    "version": 3
   },
   "file_extension": ".py",
   "mimetype": "text/x-python",
   "name": "python",
   "nbconvert_exporter": "python",
   "pygments_lexer": "ipython3",
   "version": "3.7.4"
  },
  "toc": {
   "base_numbering": 1,
   "nav_menu": {},
   "number_sections": true,
   "sideBar": true,
   "skip_h1_title": true,
   "title_cell": "Table of Contents",
   "title_sidebar": "Contents",
   "toc_cell": false,
   "toc_position": {},
   "toc_section_display": true,
   "toc_window_display": true
  }
 },
 "nbformat": 4,
 "nbformat_minor": 2
}
