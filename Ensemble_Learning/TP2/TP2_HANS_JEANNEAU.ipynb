{
 "cells": [
  {
   "cell_type": "markdown",
   "metadata": {},
   "source": [
    "# Adrien HANS & Tanguy JEANNEAU"
   ]
  },
  {
   "cell_type": "markdown",
   "metadata": {},
   "source": [
    "# EnsLearn - TP n°2"
   ]
  },
  {
   "cell_type": "code",
   "execution_count": 1,
   "metadata": {},
   "outputs": [],
   "source": [
    "import numpy as np\n",
    "import matplotlib.pyplot as plt\n",
    "import seaborn as sns"
   ]
  },
  {
   "cell_type": "markdown",
   "metadata": {},
   "source": [
    "## Exercice 1 : Fusion de capteurs de variances connues"
   ]
  },
  {
   "cell_type": "markdown",
   "metadata": {},
   "source": [
    "On suppose que les distributions sont normales : \n",
    "\n",
    "$$X_1 \\sim \\mathcal{N}(x,\\sigma_1)$$\n",
    "$$X_2 \\sim \\mathcal{N}(x,\\sigma_2)$$\n",
    "\n",
    "où $X_1$ et $X_2$ sont les deux variables aléatoires représentant les deux capteurs.\n",
    "\n",
    "On note $n_1$ le cardinal de $D^{(1)}$ et $n_2$ celui de $D^{(2)}$ "
   ]
  },
  {
   "cell_type": "markdown",
   "metadata": {},
   "source": [
    "### Question 1 :\n",
    "\n",
    "En prenant : \n",
    "$$x=4$$\n",
    "$$\\sigma_1=0.1$$\n",
    "$$\\sigma_2=0.3$$\n",
    "$$n_1=4$$\n",
    "$$n_2=10$$\n",
    "on génère les propositions $D^{(1)}$ et $D^{(2)}$ :"
   ]
  },
  {
   "cell_type": "code",
   "execution_count": 2,
   "metadata": {},
   "outputs": [
    {
     "name": "stdout",
     "output_type": "stream",
     "text": [
      "D1 :  [4.03453666 3.90978356 4.20540167 4.12578416]\n",
      "D2 :  [4.31061959 4.17063513 4.02107696 4.60301784 3.53715415 4.05954314\n",
      " 4.20654942 3.86213535 3.42780753 4.01981326]\n"
     ]
    }
   ],
   "source": [
    "#Initialisation :\n",
    "x=4 #solution recherchée\n",
    "sigma1=0.1\n",
    "sigma2=0.3\n",
    "n1=4 #Cardinal de D1\n",
    "n2=10 #Cardinal de D2\n",
    "\n",
    "#fonction D(x,sigma,n) pour générer chaque propostion. \n",
    "def D(x,sigma,n):\n",
    "    D=np.random.normal(x,sigma,n)\n",
    "    return D\n",
    "\n",
    "D1=D(x,sigma1,n1)\n",
    "D2=D(x, sigma2,n2)\n",
    "print('D1 : ', D1)\n",
    "print('D2 : ', D2)"
   ]
  },
  {
   "cell_type": "markdown",
   "metadata": {},
   "source": [
    "### Question 2 : \n",
    "*Pour 1000 réalisations, calculez l’agrégat $\\overline{x}$ obtenu par maximum de vraisemblance et par simple moyenne\n",
    "arithmétique. Tracez les histogrammes (entre -0.3 et 0.3 pour 50 bins) relatifs aux deux méthodes. Discutez le résultat.*"
   ]
  },
  {
   "cell_type": "markdown",
   "metadata": {},
   "source": [
    "Après calculs, l'agrégat $\\overline{x}$ a pour formule :\n",
    "\n",
    "$$\\overline{x}=\\frac{\\sigma_2^2n_1 \\overline{x} _1+ \\sigma_1^2 n_2 \\overline{x} _2}{\\sigma_2^2n_1+\\sigma_1^2n_2}$$\n",
    "\n",
    "où $\\overline{x}_1$ et $\\overline{x}_2$ sont les moyennes emîriques respective des 2 capteurs et sont les estimés du maximum de vraisemblance de $D^{(1)}$ et $D^{(2)}$ respectivement "
   ]
  },
  {
   "cell_type": "code",
   "execution_count": 3,
   "metadata": {},
   "outputs": [],
   "source": [
    "def x_b_mle(x1,x2,sigma1,sigma2,n1,n2):\n",
    "    \"\"\"\n",
    "    Fonction x_b_mle(x1,x2,sigma1,sigma2,n1,n2) pour calculer l'agrégat x dont l'expression est donnée ci-dessus\n",
    "    \"\"\"\n",
    "    x_b=(sigma2**2*n1 * x1 + sigma1**2 *n2* x2) / (sigma2**2 * n1 + sigma1**2 * n2)\n",
    "    return x_b"
   ]
  },
  {
   "cell_type": "code",
   "execution_count": 4,
   "metadata": {},
   "outputs": [],
   "source": [
    "def iter_x_b_mle_moy(x,sigma1,sigma2,n1,n2, N=1000):\n",
    "    \"\"\"Fonction iter_x_b_mle_moy(x,sigma1,sigma2,n1,n2, N=1000)\n",
    "    permettant de trouver N=1000 valeurs obtenues via MLE ou par moyenne empirique\n",
    "    \"\"\"\n",
    "    x_b_l=[]\n",
    "    x_b_moy=[]\n",
    "    for i in range(N):\n",
    "        x1_b=np.mean(D(x,sigma1,n1)) #Moyenne empirique de D1\n",
    "        x2_b=np.mean(D(x,sigma2,n2)) #Moyenne empirique de D2\n",
    "        x_b_l.append(x_b_mle(x1_b,x2_b,sigma1,sigma2,n1,n2)) #Ajout à la liste des estimations via MLE\n",
    "        x_b_moy.append((x1_b*n1+x2_b*n2)/(n1+n2)) #Ajout à la liste des estimations via moyenne empirique \n",
    "    return x_b_l, x_b_moy"
   ]
  },
  {
   "cell_type": "markdown",
   "metadata": {},
   "source": [
    "On affiche les résultats :"
   ]
  },
  {
   "cell_type": "code",
   "execution_count": 5,
   "metadata": {},
   "outputs": [
    {
     "data": {
      "image/png": "[encoded data removed]",
      "text/plain": [
       "<Figure size 1080x576 with 1 Axes>"
      ]
     },
     "metadata": {
      "needs_background": "light"
     },
     "output_type": "display_data"
    }
   ],
   "source": [
    "plt.figure(figsize=(15,8))\n",
    "x_b_l, x_b_moy=iter_x_b_mle_moy(x,sigma1,sigma2, n1,n2, N=1000)\n",
    "plt.hist(x_b_l,range=(x-0.3,x+0.3),bins=50,label='MLE',alpha=0.5)\n",
    "plt.hist(x_b_moy,range=(x-0.3,x+0.3),bins=50,label='Moyenne',alpha=0.5)\n",
    "plt.axvline(x=4, label='solution recherchée', color='r')\n",
    "plt.title('MLE vs Moyenne')\n",
    "plt.legend()\n",
    "plt.show()"
   ]
  },
  {
   "cell_type": "markdown",
   "metadata": {},
   "source": [
    "**D'une part, les valeurs obtenues via les deux méthodes sont centrées autour de la solution recherchée $x$**\n",
    "\n",
    "**D'autre part, on observe sans surprise que les valeurs obtenues par simple moyenne arithmétique sont plus écrasées autour de la solution recherchée $x=4$, et donc qu'à l'inverse les valeurs obtenues via l'agrégat $\\overline{x}$ obtenu par maximum de vraisemblance sont plus proches et plus nombreuses autour de la solution recherchée $x$.**"
   ]
  },
  {
   "cell_type": "markdown",
   "metadata": {},
   "source": [
    "### Question 3 :\n",
    "\n",
    "*On généralise à présent l’expérience précédente à des cardinaux $n_1$ et $n_2$ variant de 1 à 20. Toujours pour\n",
    "1000 réalisations, stockez dans un 2D numpy array l’écart-type des agrégats $\\overline{x}$ en fonction de $n_1$ et $n_2$.\n",
    "Affichez ensuite ce tableau à l’aide de matplotlib.imshow (avec l’option interpolation=’none’).*"
   ]
  },
  {
   "cell_type": "code",
   "execution_count": 6,
   "metadata": {},
   "outputs": [],
   "source": [
    "x_b_iter=np.zeros((20,20))\n",
    "for n1 in range(0,20):\n",
    "    for n2 in range(0,20):\n",
    "        x_b_l, _=iter_x_b_mle_moy(x,sigma1,sigma2,n1+1,n2+1, N=1000)\n",
    "        x_b_iter[n1,n2]=np.std(x_b_l)"
   ]
  },
  {
   "cell_type": "code",
   "execution_count": 7,
   "metadata": {},
   "outputs": [
    {
     "data": {
      "text/plain": [
       "<matplotlib.axes._subplots.AxesSubplot at 0x2069269e748>"
      ]
     },
     "execution_count": 7,
     "metadata": {},
     "output_type": "execute_result"
    },
    {
     "data": {
      "image/png": "[encoded data removed]",
      "text/plain": [
       "<Figure size 504x504 with 2 Axes>"
      ]
     },
     "metadata": {
      "needs_background": "light"
     },
     "output_type": "display_data"
    }
   ],
   "source": [
    "plt.figure(figsize=(7,7))\n",
    "sns.heatmap(x_b_iter, cmap='viridis')"
   ]
  },
  {
   "cell_type": "markdown",
   "metadata": {},
   "source": [
    "**Pour le capteur 1, $\\sigma_1=0.1$ et pour le capteur 2, $\\sigma_2=0.3$.**\n",
    "\n",
    "**Etant donné ces valeurs, il semble logique que le capteur 1 ait le plus d'influence sur la décroissance de l'écart-type. doù l'attrait du capteur 1 par rapport au capteur 2.**"
   ]
  },
  {
   "cell_type": "markdown",
   "metadata": {},
   "source": [
    "### Question 4 :"
   ]
  },
  {
   "cell_type": "markdown",
   "metadata": {},
   "source": [
    "Ici, l'agrégat MAP s'exprime comme le maximum *a posterior*. Dans ce cas : \n",
    "\n",
    "$$\\overline{x}=\\frac{\\frac{n_1\\overline{x}_1}{\\sigma_1^2}+\\frac{n_2\\overline{x}_2}{\\sigma_0^2}+\\frac{{x}_0}{\\sigma_0^2}}{\\frac{n_1}{\\sigma_1^2}+\\frac{n_2}{\\sigma_2^2}+\\frac{1}{\\sigma_0^2}}$$"
   ]
  },
  {
   "cell_type": "code",
   "execution_count": 8,
   "metadata": {},
   "outputs": [],
   "source": [
    "# fonction x_map(x0,x1,x2,sigma0,sigma1,sigma2,n1,n2) pour calculer un agrégat MAP via l'expression ci-dessus.\n",
    "def x_map(x0,x1,x2,sigma0,sigma1,sigma2,n1,n2):\n",
    "    num=(n1*x1/sigma1**2)+(n2*x2/sigma2**2)+(x0/sigma0**2)\n",
    "    dn=(n1/sigma1**2)+(n2/sigma2**2)+(1/sigma0**2)\n",
    "    return num/dn"
   ]
  },
  {
   "cell_type": "code",
   "execution_count": 9,
   "metadata": {},
   "outputs": [],
   "source": [
    "N=1000\n",
    "x=4\n",
    "sigma1=0.1\n",
    "sigma2=0.3\n",
    "n1=3\n",
    "n2=3\n",
    "x_map_l=[]\n",
    "for i in range(N):\n",
    "    #Premier jeu de données pour calculer x0 et sigma0 :\n",
    "    x1_b=np.mean(D(x,sigma1,n1)) #Moyenne empirique de D1\n",
    "    x2_b=np.mean(D(x,sigma2,n2)) #Moyenne empirique de D2\n",
    "    x0=x_b_mle(x1_b,x2_b,sigma1,sigma2,n1=3,n2=3) #Calcul de x0\n",
    "    sigma0=x_b_iter[2,2] #sigma0 via l'array de la question précédente\n",
    "    #On calcul selon le principe du MAP : \n",
    "    x_map_l.append(x_map(x0,x1_b,x2_b,sigma0,sigma1,sigma2,n1,n2))"
   ]
  },
  {
   "cell_type": "markdown",
   "metadata": {},
   "source": [
    "On compare avec l'approche *batch* où nous aurions obtenu les 12 données d'un coup : "
   ]
  },
  {
   "cell_type": "code",
   "execution_count": 10,
   "metadata": {},
   "outputs": [],
   "source": [
    "x_b_l, x_b_moy=iter_x_b_mle_moy(x,sigma1,sigma2, n1=6,n2=6, N=1000)"
   ]
  },
  {
   "cell_type": "markdown",
   "metadata": {},
   "source": [
    "On affiche le résultat :"
   ]
  },
  {
   "cell_type": "code",
   "execution_count": 11,
   "metadata": {},
   "outputs": [
    {
     "data": {
      "image/png": "[encoded data removed]",
      "text/plain": [
       "<Figure size 1080x576 with 1 Axes>"
      ]
     },
     "metadata": {
      "needs_background": "light"
     },
     "output_type": "display_data"
    }
   ],
   "source": [
    "plt.figure(figsize=(15,8))\n",
    "plt.hist(x_b_l,range=(x-0.3,x+0.3),bins=50,label='MLE',alpha=0.5)\n",
    "plt.hist(x_map_l,range=(x-0.3,x+0.3),bins=50,label='MAP',alpha=0.5)\n",
    "plt.hist(x_b_moy,range=(x-0.3,x+0.3),bins=50,label='Moyenne',alpha=0.5)\n",
    "plt.title('MLE \"batch\" vs MAP vs Moyenne')\n",
    "plt.axvline(x=4, label='solution recherchée', color='r')\n",
    "plt.legend()\n",
    "plt.show()"
   ]
  },
  {
   "cell_type": "markdown",
   "metadata": {},
   "source": [
    "**Toutes les approches permettent encore d'obtenir des valeurs autout de la solution recherché $x$**\n",
    "\n",
    "**En ce qui concerne la validité des valeurs obtenues, nous observons que l'approche MAP se situe entre l'approche MLE et la moyenne.**\n",
    "\n",
    "**Cela s'explique par la connaissance partielle dans l'approche MAP via le prior, qui permet d'avoir de meilleurs résultats que la moyenne, mais de moins bons que ceux obtenus avec l'approche MLE où toutes les données sont obtenues en une seule fois.** "
   ]
  },
  {
   "cell_type": "markdown",
   "metadata": {},
   "source": [
    "## Exercice 2 : Fusion de capteurs de variances inconnues"
   ]
  },
  {
   "cell_type": "markdown",
   "metadata": {},
   "source": [
    "### Question 1 :\n",
    "\n",
    "*Reprenez le même problème qu’à la question 2 de l’exercice précédent mais en estimant conjointement $(\\overline{x},\\sigma_{1,mle},\\sigma_{2,mle})$*"
   ]
  },
  {
   "cell_type": "markdown",
   "metadata": {},
   "source": [
    "On a pour les écrats-type empiriques capteur par capteur : \n",
    "\n",
    "$$\\sigma_{1,mle}^2=\\frac{1}{n_1}\\sum^{n_1}_{k=1}(x_1^{(k)}-D)^2$$\n",
    "et :\n",
    "$$\\sigma_{2,mle}^2=\\frac{1}{n_2}\\sum^{n_2}_{k=1}(x_2^{(k)}-D)^2$$\n",
    "\n",
    "Ces deux expressions font intervenir l'agrégat $D$ qui à présent se calcule en faisant intervenir lui aussi ces deux estimés :\n",
    "\n",
    "$$\\overline{x}=\\frac{\\sigma_{2,mle}^2\\overline{x}^{(1)}n_1+\\sigma_{1,mle}^2\\overline{x}^{(2)}n_2}{\\sigma_{2,mle}^2n_1+\\sigma_{1,mle}^2n_2}$$"
   ]
  },
  {
   "cell_type": "code",
   "execution_count": 12,
   "metadata": {},
   "outputs": [],
   "source": [
    "#sigma_mle(X) pour estimer les écarts-type empiriques capteur par capteur\n",
    "def sigma_mle(X):\n",
    "    return np.sum((X-np.mean(X))**2)/n1\n",
    "\n",
    "#x_b_mle_ex2(x1,x2,sigma1,sigma2,n1,n2) pour calculer un agrégat via l'expression donnée ci-dessus\n",
    "def x_b_mle_ex2(x1,x2,sigma1,sigma2,n1,n2):\n",
    "    num=sigma2**2 * n1*x1 +sigma1**2 *n2 *x2\n",
    "    dn=sigma2**2 * n1 +sigma1**2 *n2\n",
    "    return num/dn"
   ]
  },
  {
   "cell_type": "code",
   "execution_count": 13,
   "metadata": {},
   "outputs": [],
   "source": [
    "#Initialisation : \n",
    "x=4 #solution recherchée\n",
    "sigma1=0.1\n",
    "sigma2=0.3\n",
    "n1=4 #cardinal de D1\n",
    "n2=10 #cardinal de D2\n",
    "\n",
    "x_b_l_ex2=[]\n",
    "\n",
    "for i in range(1000): #1000 réalisations\n",
    "    X1=D(x,sigma1,n1) #Génération de D1\n",
    "    X2=D(x,sigma2,n2) #génération de D2\n",
    "    \n",
    "    sigma1_mle=sigma_mle(X1) #estimation de sigma1\n",
    "    sigma2_mle=sigma_mle(X2) #estimation de sigma2\n",
    "\n",
    "    x_b_1=np.mean(X1) #moyenne empirique du capteur 1\n",
    "    x_b_2=np.mean(X2) #moyenne empirique du capteur\n",
    "    \n",
    "    #nouvelle estimation ajoutée à la liste des estimations :\n",
    "    x_b_l_ex2.append(x_b_mle_ex2(x_b_1,x_b_2,sigma1_mle,sigma2_mle,n1,n2)) "
   ]
  },
  {
   "cell_type": "markdown",
   "metadata": {},
   "source": [
    "On affiche le résultat :"
   ]
  },
  {
   "cell_type": "code",
   "execution_count": 14,
   "metadata": {},
   "outputs": [
    {
     "data": {
      "image/png": "[encoded data removed]",
      "text/plain": [
       "<Figure size 1080x576 with 1 Axes>"
      ]
     },
     "metadata": {
      "needs_background": "light"
     },
     "output_type": "display_data"
    }
   ],
   "source": [
    "x_b_l, x_b_moy=iter_x_b_mle_moy(x,sigma1,sigma2, n1,n2, N=1000)\n",
    "#Affichage des histogrammes :\n",
    "plt.figure(figsize=(15,8))\n",
    "plt.hist(x_b_l,range=(x-0.3,x+0.3),bins=50,label='MLE',alpha=0.5)\n",
    "plt.hist(x_b_l_ex2,range=(x-0.3,x+0.3),bins=50,label='MLE exercie 2',alpha=0.5)\n",
    "plt.hist(x_b_moy,range=(x-0.3,x+0.3),bins=50,label='Moyenne',alpha=0.5)\n",
    "plt.axvline(x=4, label='solution recherchée', color='r')\n",
    "plt.title('MLE variance connue vs MLE variance inconnue vs Moyenne')\n",
    "#Légende :\n",
    "plt.legend()\n",
    "plt.show()"
   ]
  },
  {
   "cell_type": "markdown",
   "metadata": {},
   "source": [
    "**Ici, l'estimation est moins bonne pour la méthode MLE de cet exercice où les variances doivent être estimées qu'avec la méthode MLE de l'exercice 1 où les variances sont connues.**  \n",
    "\n",
    "**En clair, à l'instar de l'exercice précédent, plus les données du problème sont connues meilleure est l'estimation.**"
   ]
  }
 ],
 "metadata": {
  "kernelspec": {
   "display_name": "Python 3",
   "language": "python",
   "name": "python3"
  },
  "language_info": {
   "codemirror_mode": {
    "name": "ipython",
    "version": 3
   },
   "file_extension": ".py",
   "mimetype": "text/x-python",
   "name": "python",
   "nbconvert_exporter": "python",
   "pygments_lexer": "ipython3",
   "version": "3.7.4"
  },
  "toc": {
   "base_numbering": 1,
   "nav_menu": {},
   "number_sections": true,
   "sideBar": true,
   "skip_h1_title": true,
   "title_cell": "Table of Contents",
   "title_sidebar": "Contents",
   "toc_cell": false,
   "toc_position": {
    "height": "calc(100% - 180px)",
    "left": "10px",
    "top": "150px",
    "width": "165px"
   },
   "toc_section_display": true,
   "toc_window_display": true
  }
 },
 "nbformat": 4,
 "nbformat_minor": 2
}
