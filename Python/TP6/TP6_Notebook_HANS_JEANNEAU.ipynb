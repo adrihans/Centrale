{
 "cells": [
  {
   "cell_type": "markdown",
   "metadata": {},
   "source": [
    "## TP 6 : crawling the web  \n",
    "## Adrien HANS & Tanguy JEANNEAU\n",
    "\n",
    "The aim of this notebook is to make you aware of the ability of Python to crawl the web to collect data in an automatic manner. This is made possible by using the package `urllib3`.\n",
    "\n",
    "Other packages are useful:\n",
    "- _os_ & _sys_ for operating system instructions,\n",
    "- _re_ for **r**egular **e**xpressions when manipulating text strings. See <https://docs.python.org/2/library/re.html>\n",
    "- _datetime_ to play with... dates & times."
   ]
  },
  {
   "cell_type": "code",
   "execution_count": 1,
   "metadata": {
    "collapsed": true
   },
   "outputs": [],
   "source": [
    "import os,sys\n",
    "import urllib3   # \"python -m pip install urllib3\" in the command shell if necessary\n",
    "import re\n",
    "\n",
    "from datetime import datetime, date"
   ]
  },
  {
   "cell_type": "markdown",
   "metadata": {},
   "source": [
    "To make this notebook the clearest possible, we disable warnings from urllib3"
   ]
  },
  {
   "cell_type": "code",
   "execution_count": 2,
   "metadata": {
    "collapsed": true
   },
   "outputs": [],
   "source": [
    "urllib3.disable_warnings()"
   ]
  },
  {
   "cell_type": "markdown",
   "metadata": {},
   "source": [
    "To take Centrale Lille's proxy into account to go out:"
   ]
  },
  {
   "cell_type": "code",
   "execution_count": 3,
   "metadata": {
    "collapsed": true
   },
   "outputs": [],
   "source": [
    "# If proxy : to get out through Centrale Lille's proxy\n",
    "centrale_proxy = False\n",
    "if centrale_proxy:\n",
    "    proxy = urllib3.ProxyManager('http://cache.ec-lille.fr:3128')\n",
    "else:\n",
    "    proxy = urllib3.PoolManager()\n",
    "\n",
    "# See https://stackoverflow.com/questions/40490187/get-proxy-address-on-auto-proxy-discovery-mode-on-mac-os-x\n",
    "# scutil --proxy"
   ]
  },
  {
   "cell_type": "markdown",
   "metadata": {},
   "source": [
    "### Example: parsing the web page <http://tycho.usno.navy.mil/timer.html>\n",
    "The purpose of this example is to retrieve American Eastern time from some web page."
   ]
  },
  {
   "cell_type": "code",
   "execution_count": 4,
   "metadata": {},
   "outputs": [],
   "source": [
    "#%% Internet access: parsing web pages \n",
    "#from urllib3.request import urlopen\n",
    "response = proxy.request('GET','http://tycho.usno.navy.mil/timer.html')"
   ]
  },
  {
   "cell_type": "markdown",
   "metadata": {},
   "source": [
    "Transform content into formatted text:"
   ]
  },
  {
   "cell_type": "code",
   "execution_count": 5,
   "metadata": {
    "collapsed": true
   },
   "outputs": [],
   "source": [
    "texte_utf8 = response.data.decode('utf-8')\n",
    "#texte_utf8 = \"10:15:38 AM EDT\"     # Test regex http://regexr.com   POUR CHECKER LE REGEX"
   ]
  },
  {
   "cell_type": "markdown",
   "metadata": {},
   "source": [
    "Look for eastern time in the web page and print it:"
   ]
  },
  {
   "cell_type": "code",
   "execution_count": 6,
   "metadata": {},
   "outputs": [
    {
     "name": "stdout",
     "output_type": "stream",
     "text": [
      "02:30:41 PM EDT\n"
     ]
    }
   ],
   "source": [
    "# Search data using Regex (regular expressions)\n",
    "# Test regex http://regexr.com\n",
    "\n",
    "regex = \"[0-9]+:[0-9]+:[0-9]+ PM EDT\"   # looking for time under the form 10:16:18 PM  pour EDT\n",
    "web_time = re.search(regex, texte_utf8)\n",
    "\n",
    "print(web_time.group(0))"
   ]
  },
  {
   "cell_type": "markdown",
   "metadata": {},
   "source": [
    "### Exercise 1\n",
    "**We do the same as above for Western time : **\n",
    "<br> \n",
    "Western time corresponds to UTC (Coordinated Universal Time) and is the time in weastern Europe. . \n",
    "<br>\n",
    "Thus, we search the same regular expression (regex) but with \"UTC\" (Coordinated Universal Time) instead of \"EDT\" (Eastern Time).\n",
    "<br> Then we only have to compute the last cell replacing \"EDT\" by \"UTC\" to get the wanted result. "
   ]
  },
  {
   "cell_type": "code",
   "execution_count": 7,
   "metadata": {
    "scrolled": true
   },
   "outputs": [
    {
     "name": "stdout",
     "output_type": "stream",
     "text": [
      "18:30:41 UTC\n"
     ]
    }
   ],
   "source": [
    "# Search data using Regex (regular expressions)\n",
    "# Test regex http://regexr.com\n",
    "\n",
    "regex = \"[0-9]+:[0-9]+:[0-9]+ UTC\"   # looking for time under the form 10:16:18  for UTC\n",
    "web_time = re.search(regex, texte_utf8)\n",
    "\n",
    "print(web_time.group(0))"
   ]
  },
  {
   "cell_type": "markdown",
   "metadata": {},
   "source": [
    "**This is indeed the actual Coordinated Universal Time, and thus the Western Time that we wanted to get. **"
   ]
  },
  {
   "cell_type": "markdown",
   "metadata": {},
   "source": [
    "### Exercise 2\n",
    "**Information from Wikipedia**\n",
    "\n",
    "Retrieve information about the date of birth and age of the following list of actors from Wikipedia: Brad Pitt, Laurent Cantet, Jean-Paul Belmondo, Matthew McConaughey,... and if possible Marion Cotillard,  and all others you may want to add to this list.\n",
    "\n",
    "To this aim, we scroll their Wikipedia web page and find a date that might be that date of birth.\n",
    "\n",
    "Then we translate it to a numerical date and compute the difference with today to get an estimate of their age."
   ]
  },
  {
   "cell_type": "markdown",
   "metadata": {},
   "source": [
    "We define a class actors, with fisrtname and name as attributes :"
   ]
  },
  {
   "cell_type": "code",
   "execution_count": 8,
   "metadata": {
    "collapsed": true
   },
   "outputs": [],
   "source": [
    "# for Brad Pitt or any actor\n",
    "class Actor:\n",
    "    def __init__(self, firstname, name):\n",
    "        self.name = name\n",
    "        self.firstname = firstname   "
   ]
  },
  {
   "cell_type": "markdown",
   "metadata": {},
   "source": [
    "We can define some actors we want to test our algorithm on : "
   ]
  },
  {
   "cell_type": "code",
   "execution_count": 9,
   "metadata": {
    "collapsed": true
   },
   "outputs": [],
   "source": [
    "List_Actors=[Actor('Matthew','McConaughey'),Actor('Marion','Cotillard'),Actor('Jean-Paul','Belmondo'),Actor('Laurent','Cantet'),Actor('Jean-Pierre','Leaud'),Actor('Anna','Karina'),Actor('Jean-Claude','Brialy'),Actor('Maurice','Ronet')]"
   ]
  },
  {
   "cell_type": "markdown",
   "metadata": {},
   "source": [
    "We can iterate on each actor :"
   ]
  },
  {
   "cell_type": "code",
   "execution_count": 10,
   "metadata": {},
   "outputs": [
    {
     "name": "stdout",
     "output_type": "stream",
     "text": [
      "According to Wikipedia, Matthew McConaughey is 49 years old.\n",
      "According to Wikipedia, Marion Cotillard is 44 years old.\n",
      "According to Wikipedia, Jean-Paul Belmondo is 86 years old.\n",
      "According to Wikipedia, Laurent Cantet is 58 years old.\n",
      "According to Wikipedia, Jean-Pierre Leaud is 75 years old.\n",
      "According to Wikipedia, Anna Karina is 79 years old.\n",
      "According to Wikipedia, Jean-Claude Brialy is 86 years old.\n",
      "According to Wikipedia, Maurice Ronet is 92 years old.\n"
     ]
    }
   ],
   "source": [
    "for person in List_Actors:\n",
    "    #Parsing the wikipedia page of the actor : \n",
    "    response = proxy.request('GET','https://fr.wikipedia.org/wiki/'+person.firstname+'_'+person.name)\n",
    "\n",
    "    #Encoding the page : \n",
    "    texte_utf8 = response.data.decode('utf-8')\n",
    "\n",
    "    #Regular expression of the birth date in wikipedia : \n",
    "    #We firstly take the date with the expression arround it to be sure it's the birth date we are getting\n",
    "    regex_expression = 'datetime=\"[0-9]+[0-9]+[0-9]+[0-9]-[0-9]+[0-9]-[0-3]+[0-9]\"'\n",
    "\n",
    "    #Searching the birth date : \n",
    "    birth_date_expression = re.search(regex_expression, texte_utf8)\n",
    "\n",
    "    #This is the regex of the actual date \n",
    "    regex_actual_date=\"[0-9]+[0-9]+[0-9]+[0-9]-[0-9]+[0-9]-[0-3]+[0-9]\"\n",
    "    \n",
    "    #Taking the birth date : \n",
    "    birth_date=re.search(regex_actual_date,birth_date_expression.group(0))\n",
    "\n",
    "    #Getting the birth_date in web_date\n",
    "    web_date=birth_date.group(0)\n",
    "\n",
    "    #Converting the web_date in the time format : \n",
    "    born = datetime.strptime(web_date, '%Y-%m-%d')\n",
    "\n",
    "    #Getting the date of today in format time : \n",
    "    now = date.today()\n",
    "\n",
    "    # Compute the age\n",
    "    age = now - born.date()\n",
    "    age.days / 356\n",
    "\n",
    "    #Getting the final result  : \n",
    "    result = now.year - born.date().year - ((now.month, now.day) < (born.date().month, born.date().day))\n",
    "\n",
    "    #Printing the result for each actor  : \n",
    "    print('According to Wikipedia, ' + person.firstname + ' ' + person.name +' is ' + str(result) + ' years old.')"
   ]
  },
  {
   "cell_type": "markdown",
   "metadata": {},
   "source": [
    "**On the actors tested the results were correct, even with Marion Cotillard, by specifying two regex expressions the birth date must corresponds to.** "
   ]
  }
 ],
 "metadata": {
  "kernelspec": {
   "display_name": "Python 3",
   "language": "python",
   "name": "python3"
  },
  "language_info": {
   "codemirror_mode": {
    "name": "ipython",
    "version": 3
   },
   "file_extension": ".py",
   "mimetype": "text/x-python",
   "name": "python",
   "nbconvert_exporter": "python",
   "pygments_lexer": "ipython3",
   "version": "3.6.3"
  }
 },
 "nbformat": 4,
 "nbformat_minor": 1
}
