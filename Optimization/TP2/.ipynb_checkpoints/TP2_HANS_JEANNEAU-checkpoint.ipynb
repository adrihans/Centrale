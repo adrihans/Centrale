{
 "cells": [
  {
   "cell_type": "markdown",
   "metadata": {},
   "source": [
    "# Adrien HANS & Tanguy JEANNEAU\n",
    "\n",
    "# Travaux pratiques - Optimisation non linéaire avec contraintes : "
   ]
  },
  {
   "cell_type": "code",
   "execution_count": 1,
   "metadata": {},
   "outputs": [],
   "source": [
    "import matplotlib.pyplot as plt\n",
    "import scipy.optimize as opt\n",
    "import numpy as np"
   ]
  },
  {
   "cell_type": "markdown",
   "metadata": {},
   "source": [
    "## Partie 1 - Méthode de pénalité extérieure : \n",
    "\n",
    "**Soit le problème suivant :** \n",
    "\n",
    "\\begin{align*}\n",
    "Min \\hspace{0.1cm} f(x_1,x_2,x_3) = -x_1-x_2+x_3\n",
    "\\\\Sous\\hspace{0.1cm} contrainte\n",
    "\\\\x_1^3+x_3 \\leq 1 \n",
    "\\\\x_1^2+x_2^2+x_3^2 \\leq1 \n",
    "\\\\0 \\leq x_3 \\leq 1\n",
    "\\end{align*}\n",
    "\n",
    "\n",
    "**Problème général avec la méthode de pénalité :**\n",
    "\\begin{align*}\n",
    "min f(x)\n",
    "\\end{align*}\n",
    "Sous contraintes :\n",
    "\\begin{align*}\n",
    "g_i(x)\\leq,i=1,...,m\n",
    "\\end{align*}\n",
    "Problème pénalisé : \n",
    "\\begin{align*}\n",
    "min_x f(x)+(1/2\\rho) ||max(0,g(x)||^2\n",
    "\\end{align*}\n",
    "Condition d'optimalité : \n",
    "\\begin{align*}\n",
    "P(x,\\rho)=\\nabla f(x) +(1/\\rho)\\sum_i max(0,g_i(x))\\nabla g_i(x)=0\n",
    "\\end{align*}\n",
    "\n",
    "**Ici on a :**\n",
    "\\begin{align*}\n",
    "f(x)=-x_1-x_2+x_3\\\\\n",
    "g_1(x)=x_1^3+x_3-1\\\\\n",
    "g_2(x)=x_1^2+x_2^2+x_3^2-1\\\\\n",
    "g_3(x)=-x_3\\\\\n",
    "g_4(x)=x_3-1\\\\\n",
    "\\end{align*}"
   ]
  },
  {
   "cell_type": "markdown",
   "metadata": {},
   "source": [
    "### **1)**On détermine la solution optimale de ce problème en utilisant une méthode de pénalité quadratique: \n",
    "On définit dans un premier temps l'ensemble des fonctions du problème ainsi que leur gradients."
   ]
  },
  {
   "cell_type": "code",
   "execution_count": 2,
   "metadata": {},
   "outputs": [],
   "source": [
    "def f(x):\n",
    "    x1=x[0]\n",
    "    x2=x[1]\n",
    "    x3=x[2]\n",
    "    return -x1-x2+x3\n",
    "\n",
    "def gradf(x):\n",
    "    return np.array([-1,-1,1])\n",
    "\n",
    "def g1(x):\n",
    "    return x[0]**3+x[2]-1\n",
    "def gradg1(x):\n",
    "    return np.array([3*x[0]**2,0,1])\n",
    "\n",
    "def g2(x):\n",
    "    return x[0]**2 + x[1]**2 + x[2]**2 -1 \n",
    "def gradg2(x):\n",
    "    return np.array([2*x[0],2*x[1],2*x[2]])\n",
    "\n",
    "def g3(x):\n",
    "    return -x[2]\n",
    "def gradg3(x):\n",
    "    return np.array([0,0,-1])\n",
    "\n",
    "def g4(x):\n",
    "    return x[2]-1\n",
    "def gradg4(x):\n",
    "    return np.array([0,0,1])"
   ]
  },
  {
   "cell_type": "markdown",
   "metadata": {},
   "source": [
    "On applique la méthode de pénalité à ce problème. "
   ]
  },
  {
   "cell_type": "code",
   "execution_count": 3,
   "metadata": {
    "scrolled": false
   },
   "outputs": [
    {
     "name": "stdout",
     "output_type": "stream",
     "text": [
      "x :  [ 7.09513113e-01  7.04699928e-01 -1.53188102e-05]\n",
      "valeur de f en x  :  -1.4142283590960203\n"
     ]
    }
   ],
   "source": [
    "#Données : \n",
    "epsilon = 0.00001\n",
    "beta=0.6\n",
    "x=np.array([2,1,1])\n",
    "rho=0.7\n",
    "tolerance=0.01\n",
    "k=1 \n",
    "\n",
    "def P(x):\n",
    "    p1=np.maximum(0,g1(x))*gradg1(x)\n",
    "    p2=np.maximum(0,g2(x))*gradg2(x)\n",
    "    p3=np.maximum(0,g3(x))*gradg3(x)\n",
    "    p4=np.maximum(0,g4(x))*gradg4(x)\n",
    "    Sum=p1+p2+p3+p4\n",
    "    P=gradf(x)+(1/rho)*Sum\n",
    "    return np.linalg.norm(P)\n",
    "#Algorithme méthode de pénalité :\n",
    "while rho>epsilon:\n",
    "    x=x\n",
    "    while P(x)>tolerance:\n",
    "        \n",
    "        \"\"\"\n",
    "        Nous voulions dans un premier temps résoudre la minimisation de P de façon manuelle grâce à ce type de manoeuvres :\n",
    "        \n",
    "        \n",
    "        \n",
    "        On détermine une direction admissible :\n",
    "        direction d du gradient:\n",
    "        d=-np.gradient(P(x))\n",
    "        (On pourrait aussi prendre le direction de Newton par exemple)\n",
    "        On détermine un pas admissible :\n",
    "        alpha=opt.line_search(P,gradP,x,d)\n",
    "        On met à jour x : \n",
    "        x=x+alpha[0]*d\n",
    "        \n",
    "        \n",
    "        Cependant, ces essais n'ayant pas abouties, \n",
    "        on résout la minimisation de P tout simplement avec la fonction minimize\n",
    "        de la librairie scipy.optmize : \n",
    "        \"\"\"\n",
    "        \n",
    "        x=opt.minimize(P,x).x        \n",
    "    x=x\n",
    "    rho=beta*rho\n",
    "    k+=1\n",
    "    \n",
    "    \n",
    "print('x : ', x)\n",
    "print('valeur de f en x  : ' ,f(x))"
   ]
  },
  {
   "cell_type": "markdown",
   "metadata": {},
   "source": [
    "**Nous avons donc trouvé une valeur de x solution de ce problème par la méthode de pénalité.**\n",
    "\n",
    "Après plusieurs essais, nous avons choisis des valeurs initiales pour $\\epsilon$, $\\beta$, $\\rho$, et de tolérance pour que l'algorithme converge bien, sans être trop rapide dans la convergence pour avoir de bonnes valeurs finales."
   ]
  },
  {
   "cell_type": "markdown",
   "metadata": {},
   "source": [
    "#### Vérification de la satisfaction des contraintes : "
   ]
  },
  {
   "cell_type": "code",
   "execution_count": 4,
   "metadata": {},
   "outputs": [],
   "source": [
    "ineq1=x[0]**3+x[2]\n",
    "ineq2=x[0]**2+x[1]**2+x[2]**2"
   ]
  },
  {
   "cell_type": "markdown",
   "metadata": {},
   "source": [
    "Première inégalité : \n",
    "$x_1^3+x_3 \\leq 1$ \n",
    "Or ici : $x_1^3+x_3=$ :"
   ]
  },
  {
   "cell_type": "code",
   "execution_count": 5,
   "metadata": {},
   "outputs": [
    {
     "name": "stdout",
     "output_type": "stream",
     "text": [
      "0.35715986605614586\n"
     ]
    }
   ],
   "source": [
    "print(ineq1)"
   ]
  },
  {
   "cell_type": "markdown",
   "metadata": {},
   "source": [
    "Deuxième inégalité : \n",
    "$x_1^2+x_2^2+x_3^2 \\leq1$ Or ici : $x_1^2+x_2^2+x_3^2=$ :"
   ]
  },
  {
   "cell_type": "code",
   "execution_count": 6,
   "metadata": {},
   "outputs": [
    {
     "name": "stdout",
     "output_type": "stream",
     "text": [
      "1.0000108452654577\n"
     ]
    }
   ],
   "source": [
    "print(ineq2)"
   ]
  },
  {
   "cell_type": "markdown",
   "metadata": {},
   "source": [
    "Troisième inégalité :\n",
    "$0 \\leq x_3 \\leq 1$ Or ici, $x_3=$ : "
   ]
  },
  {
   "cell_type": "code",
   "execution_count": 7,
   "metadata": {},
   "outputs": [
    {
     "name": "stdout",
     "output_type": "stream",
     "text": [
      "-1.5318810241796736e-05\n"
     ]
    }
   ],
   "source": [
    "print(x[2])"
   ]
  },
  {
   "cell_type": "markdown",
   "metadata": {},
   "source": [
    "**On vérifie donc bien dans l'ensemble qu'il s'agit d'une méthode éxtérieure, c'est à dire que certaines contraintes sont \"presque\" satisfaites.**"
   ]
  },
  {
   "cell_type": "markdown",
   "metadata": {},
   "source": [
    "### 2) Estimation des valeurs des multiplicateurs de Lagrange : \n",
    "Etant donné la nature de la formule issue des conditions de Karush-Kuhn-Tucker et la condition d'optimalité, on peut approcher chaque multiplicateur de Lagrange $\\lambda_i$ par la formule : \n",
    "\\begin{align*}\n",
    "\\lambda_i = \\frac{max(0,g_i(x^*))}{\\rho}\n",
    "\\end{align*}\n",
    "Ainsi on pour multiplicateurs de Lagrange : "
   ]
  },
  {
   "cell_type": "code",
   "execution_count": 8,
   "metadata": {
    "scrolled": true
   },
   "outputs": [
    {
     "name": "stdout",
     "output_type": "stream",
     "text": [
      "1er Multiplicateur de Lagrange :  0.0\n",
      "2eme Multiplicateur de Lagrange :  1.1771034651473258\n",
      "3eme Multiplicateur de Lagrange :  1.6626448368548388\n",
      "4eme Multiplicateur de Lagrange :  0.0\n"
     ]
    }
   ],
   "source": [
    "lamb1=np.maximum(0,g1(x))/rho\n",
    "lamb2=np.maximum(0,g2(x))/rho\n",
    "lamb3=np.maximum(0,g3(x))/rho\n",
    "lamb4=np.maximum(0,g4(x))/rho\n",
    "\n",
    "print('1er Multiplicateur de Lagrange : ', lamb1)\n",
    "print('2eme Multiplicateur de Lagrange : ', lamb2)\n",
    "print('3eme Multiplicateur de Lagrange : ', lamb3)\n",
    "print('4eme Multiplicateur de Lagrange : ', lamb4)"
   ]
  },
  {
   "cell_type": "markdown",
   "metadata": {},
   "source": [
    "#### Contraintes actives :\n",
    "Une contrainte est active si son multiplicateur de Lagrange associé est non-nul. \n",
    "\n",
    "Ainsi, étant donné les valeurs des multiplicateurs de Lagrange ici, les contraintes associées aux valeurs non nulles des multiplicateurs de Lagrange sont actives, c'est-à-dire les contraintes associées à $\\lambda_2$ et à $\\lambda_3$, donc les contraintes suivantes : \n",
    "\n",
    "\\begin{align*}\n",
    "\\\\x_1^2+x_2^2+x_3^2 \\leq1 \n",
    "\\\\0 \\leq x_3\n",
    "\\end{align*}"
   ]
  },
  {
   "cell_type": "markdown",
   "metadata": {},
   "source": [
    "### 3) Obtient-on un col ? "
   ]
  },
  {
   "cell_type": "markdown",
   "metadata": {},
   "source": [
    "Calcul de la fonction de Lagrange : "
   ]
  },
  {
   "cell_type": "code",
   "execution_count": 9,
   "metadata": {},
   "outputs": [
    {
     "name": "stdout",
     "output_type": "stream",
     "text": [
      "Valeur de la fonction de Lagrange :  -1.4142665948363262\n"
     ]
    }
   ],
   "source": [
    "def func_Lag1(f,x,lamb1,lamb2,lamb3,lamb4,g1,g2,g3,g4):   \n",
    "    p1=lamb1*g1(x)\n",
    "    p2=lamb2*g2(x)\n",
    "    p3=lamb3*g3(x)\n",
    "    p4=lamb4*g4(x)\n",
    "    Sum=p1+p2+p3+p4\n",
    "    L=f(x)-Sum\n",
    "    return L\n",
    "L=func_Lag1(f,x,lamb1,lamb2,lamb3,lamb4,g1,g2,g3,g4)\n",
    "print('Valeur de la fonction de Lagrange : ', L)"
   ]
  },
  {
   "cell_type": "markdown",
   "metadata": {},
   "source": [
    "**Par définition, on sait qu'on obtient un col si :**\n",
    "\\begin{align*}\n",
    "L(x^*,\\lambda)\\leq L(x^*,\\lambda^*) \\leq L(x,\\lambda^*) \n",
    "\\end{align*}\n",
    "\n",
    "Ceci étant difficile à démontrer étant donné la nature des objets que l'on considère, on va plutôt vérifier si on obtient un col via la caractérisation de celui-ci, c'est-à-dire vérifier que : \n",
    "\n",
    "**1)**\n",
    "\\begin{align*}\n",
    "L(x^*,\\lambda^*)=min_xL(x,\\lambda^*)\n",
    "\\end{align*}\n",
    "**2)**\n",
    "\\begin{align*}\n",
    "g_i(x^*)\\geq0, \\hspace{0.5cm} i=1,..,m\n",
    "\\end{align*}\n",
    "**3)**\n",
    "\\begin{align*}\n",
    "\\lambda_i^*g_i(x^*)\\geq0, \\hspace{0.5cm}i=1,..,m\n",
    "\\end{align*}\n",
    "\n",
    "Vu le calcul précédent, on a pour valeur de $L(x^*,\\lambda^*)$ :"
   ]
  },
  {
   "cell_type": "code",
   "execution_count": 10,
   "metadata": {},
   "outputs": [
    {
     "name": "stdout",
     "output_type": "stream",
     "text": [
      "-1.4142665948363262\n"
     ]
    }
   ],
   "source": [
    "print(L)"
   ]
  },
  {
   "cell_type": "markdown",
   "metadata": {},
   "source": [
    "On vérifie d'abord les conditions **2** et **3**, étant les plus faciles à vérifier.\n",
    "On calcule donc $g_i(x^*)$ : "
   ]
  },
  {
   "cell_type": "code",
   "execution_count": 11,
   "metadata": {},
   "outputs": [
    {
     "name": "stdout",
     "output_type": "stream",
     "text": [
      "g1 en x optimal par la méthode de pénalité =  -0.6428401339438541\n",
      "g2 en x optimal par la méthode de pénalité =  1.0845265457692932e-05\n",
      "g3 en x optimal par la méthode de pénalité =  1.5318810241796736e-05\n",
      "g4 en x optimal par la méthode de pénalité =  -1.0000153188102419\n"
     ]
    }
   ],
   "source": [
    "print('g1 en x optimal par la méthode de pénalité = ', g1(x))\n",
    "print('g2 en x optimal par la méthode de pénalité = ', g2(x))\n",
    "print('g3 en x optimal par la méthode de pénalité = ', g3(x))\n",
    "print('g4 en x optimal par la méthode de pénalité = ', g4(x))"
   ]
  },
  {
   "cell_type": "markdown",
   "metadata": {},
   "source": [
    "**Conclusion sur la condition 2):**\n",
    "\n",
    "Directement, on a \n",
    "\\begin{align*}\n",
    "g_i(x^*)\\ngeq0, \\hspace{0.5cm} i=1,..,m\n",
    "\\end{align*}\n",
    "puisque, par exemple, $g_1(x)< -0.5<0$\n",
    "\n",
    "**Donc le point calculé n'est pas un point col.**"
   ]
  },
  {
   "cell_type": "markdown",
   "metadata": {},
   "source": [
    "# Partie 2 - Méthode de barrière :"
   ]
  },
  {
   "cell_type": "markdown",
   "metadata": {},
   "source": [
    "Le problème est le suivant : \n",
    "\n",
    "\\begin{align*}\n",
    "Min \\hspace{0.1cm} -x_1-x_2+x_3\n",
    "\\\\sous \\hspace{0.1cm}contraintes\n",
    "\\\\0 \\leq x_3 \\leq 2\n",
    "\\\\x_1^3+x_3 \\leq 2\n",
    "\\\\x_1^2+x_2^2+x_3^2 \\leq 2\n",
    "\\end{align*}"
   ]
  },
  {
   "cell_type": "markdown",
   "metadata": {},
   "source": [
    "***Problème général avec la méthode de barrières :***\n",
    "\n",
    "Contraintes d'inégalité : \n",
    "\\begin{align*}\n",
    "min f(x) \n",
    "\\end{align*}\n",
    "sous contraintes \n",
    "\\begin{align*}\n",
    "g_i(x) \\leq 0,i=1,...,m\n",
    "\\end{align*}\n",
    "\n",
    "Problème pénalisé avec les méthodes de barrières : \n",
    "\\begin{align*}\n",
    "min_x f(x)-\\rho \\sum_i log(-g_i(x))\n",
    "\\end{align*}\n",
    "\n",
    "Condition d'optimalité : \n",
    "\\begin{align*}\n",
    "P(x,\\rho)=\\nabla f(x)-\\rho \\sum_i(1/g_i(x))\\nabla g_i(x)=0\n",
    "\\end{align*}\n",
    "\n",
    "\n",
    "Méthodes intérieures vu que $g_i(x)<0$"
   ]
  },
  {
   "cell_type": "markdown",
   "metadata": {},
   "source": [
    "**Ici on a :** \n",
    "\\begin{align*}\n",
    "f(x)=-x_1 -x_2 +x_3\\\\\n",
    "g_1(x)=-x_3\\\\\n",
    "g_2(x)=x_3-2\\\\\n",
    "g_3(x)=x_1^3+x_3-2\\\\\n",
    "g_4(x)=x_1^2+x_2^2+x_3^2-2\\\\\n",
    "\\end{align*}"
   ]
  },
  {
   "cell_type": "markdown",
   "metadata": {},
   "source": [
    "### **1)**On détermine la solution optimale de ce problème en utilisant une méthode de barrière: \n",
    "On définit dans un premier temps l'ensemble des fonctions du problème ainsi que leur gradients."
   ]
  },
  {
   "cell_type": "code",
   "execution_count": 12,
   "metadata": {},
   "outputs": [],
   "source": [
    "def f(x):\n",
    "    return -x[0]-x[1]+x[2]\n",
    "def g1(x):\n",
    "    return -x[2]\n",
    "def g2(x):\n",
    "    return x[2]-2\n",
    "def g3(x):\n",
    "    return x[0]**2 +x[2]-2\n",
    "def g4(x):\n",
    "    return x[0]**2+x[1]**2+x[2]**2-2\n",
    "\n",
    "def gradf(x):\n",
    "    return np.array([-1,-1,1])\n",
    "def gradg1(x):\n",
    "    return np.array([0,0,-1])\n",
    "def gradg2(x):\n",
    "    return np.array([0,0,1])\n",
    "def gradg3(x):\n",
    "    return np.array([3*x[0]**2,0,1])\n",
    "def gradg4(x):\n",
    "    return np.array([2*x[0],2*x[1],2*x[2]])\n",
    "\n",
    "def P(x):\n",
    "    p1=(1/g1(x))*gradg1(x)\n",
    "    p2=(1/g2(x))*gradg2(x)\n",
    "    p3=(1/g3(x))*gradg3(x)\n",
    "    p4=(1/g4(x))*gradg4(x)\n",
    "    Sum=p1+p2+p3+p4\n",
    "    return np.linalg.norm(gradf(x) - rho*Sum)"
   ]
  },
  {
   "cell_type": "markdown",
   "metadata": {},
   "source": [
    "On applique la méthode de barrière :"
   ]
  },
  {
   "cell_type": "code",
   "execution_count": 13,
   "metadata": {
    "scrolled": true
   },
   "outputs": [
    {
     "name": "stdout",
     "output_type": "stream",
     "text": [
      "x :  [9.99438305e-01 1.00054604e+00 1.53467605e-05]\n",
      "valeur de f en x  :  -1.9999689973097867\n"
     ]
    }
   ],
   "source": [
    "epsilon = 0.00001\n",
    "beta=0.6\n",
    "x=np.array([1,0.2,0.7])\n",
    "rho=0.7\n",
    "tolerance=0.01\n",
    "k=1 \n",
    "\n",
    "while rho>epsilon:\n",
    "    x=x\n",
    "    while P(x)>tolerance:\n",
    "        \"\"\"\n",
    "        Nous voulions dans un premier temps résoudre la minimisation de P de façon manuelle grâce à ce type de manoeuvres :\n",
    "        \n",
    "        \n",
    "        On détermine une direction admissible :\n",
    "        direction d du gradient:\n",
    "        d=-np.gradient(P(x))\n",
    "        (On pourrait aussi prendre le direction de Newton par exemple)\n",
    "        On détermine un pas admissible :\n",
    "        alpha=opt.line_search(P,gradP,x,d)\n",
    "        On met à jour x : \n",
    "        x=x+alpha[0]*d\n",
    "        \n",
    "        Cependant, ces essais n'ayant pas abouties, \n",
    "        on résout la minimisation de P tout simplement avec la fonction minimize\n",
    "        de la librairie scipy.optmize : \n",
    "        \"\"\"\n",
    "        x=opt.minimize(P,x).x        \n",
    "    x=x\n",
    "    rho=beta*rho\n",
    "    k+=1\n",
    "print('x : ', x)\n",
    "print('valeur de f en x  : ' ,f(x))"
   ]
  },
  {
   "cell_type": "markdown",
   "metadata": {},
   "source": [
    "**Nous avons donc trouvé une valeur de x solution de ce problème par la méthode de barrière.**\n",
    "Comme pour la méthode de pénalité, on a choisi les valeurs initiales à dessein."
   ]
  },
  {
   "cell_type": "markdown",
   "metadata": {},
   "source": [
    "#### Vérification de la statisfaction des contraintes :"
   ]
  },
  {
   "cell_type": "code",
   "execution_count": 14,
   "metadata": {},
   "outputs": [],
   "source": [
    "ineq2=x[0]**3+x[2]\n",
    "ineq3=x[0]**2+x[1]**2+x[2]**2"
   ]
  },
  {
   "cell_type": "markdown",
   "metadata": {},
   "source": [
    "Première inégalité : $0 \\leq x_3 \\leq 2$ Or, ici : $x_3=$"
   ]
  },
  {
   "cell_type": "code",
   "execution_count": 15,
   "metadata": {},
   "outputs": [
    {
     "name": "stdout",
     "output_type": "stream",
     "text": [
      "1.534676046071751e-05\n"
     ]
    }
   ],
   "source": [
    "print(x[2])"
   ]
  },
  {
   "cell_type": "markdown",
   "metadata": {},
   "source": [
    "Deuxième inégalité : $x_1^3+x_3 \\leq 2$ Or, ici, $x_1^3+x_3=$ "
   ]
  },
  {
   "cell_type": "code",
   "execution_count": 16,
   "metadata": {},
   "outputs": [
    {
     "name": "stdout",
     "output_type": "stream",
     "text": [
      "0.998331207600565\n"
     ]
    }
   ],
   "source": [
    "print(ineq2)"
   ]
  },
  {
   "cell_type": "markdown",
   "metadata": {},
   "source": [
    "Troisième inégalité : $x_1^2+x_2^2+x_3^2 \\leq 2$ Or, ici, $x_1^2+x_2^2+x_3^2=$ "
   ]
  },
  {
   "cell_type": "code",
   "execution_count": 17,
   "metadata": {},
   "outputs": [
    {
     "name": "stdout",
     "output_type": "stream",
     "text": [
      "1.9999693020363172\n"
     ]
    }
   ],
   "source": [
    "print(ineq3)"
   ]
  },
  {
   "cell_type": "markdown",
   "metadata": {},
   "source": [
    "**On vérifie donc dans l'ensemble qu'il s'agit bien d'une méthode intérieure, puisque toutes les contraintes sont parfaitement satisfaites**"
   ]
  },
  {
   "cell_type": "markdown",
   "metadata": {},
   "source": [
    "### 2) Estimation des valeurs des multiplicateurs de Lagrange : \n",
    "Etant donné la nature de la formule issue des conditions de Karush-Kuhn-Tucker et la condition d'optimalité, on peut approcher chaque multiplicateur de Lagrange $\\lambda_i$ par la formule : \n",
    "\\begin{align*}\n",
    "\\lambda_i = \\frac{-\\rho}{g_i(x)}\n",
    "\\end{align*}\n",
    "Ainsi on pour multiplicateurs de Lagrange : "
   ]
  },
  {
   "cell_type": "code",
   "execution_count": 18,
   "metadata": {},
   "outputs": [
    {
     "name": "stdout",
     "output_type": "stream",
     "text": [
      "1er Multiplicateur de Lagrange :  0.6003559704044491\n",
      "2eme Multiplicateur de Lagrange :  4.606794984168903e-06\n",
      "3eme Multiplicateur de Lagrange :  9.203324488152282e-06\n",
      "4eme Multiplicateur de Lagrange :  0.30013454195705325\n"
     ]
    }
   ],
   "source": [
    "lamb1=(-rho/g1(x))\n",
    "lamb2=(-rho/g2(x))\n",
    "lamb3=(-rho/g3(x))\n",
    "lamb4=(-rho/g4(x))\n",
    "print('1er Multiplicateur de Lagrange : ', lamb1)\n",
    "print('2eme Multiplicateur de Lagrange : ', lamb2)\n",
    "print('3eme Multiplicateur de Lagrange : ', lamb3)\n",
    "print('4eme Multiplicateur de Lagrange : ', lamb4)"
   ]
  },
  {
   "cell_type": "markdown",
   "metadata": {},
   "source": [
    "#### Contraintes actives :\n",
    "Une contrainte est active si son multiplicateur de Lagrange associé est non-nul. \n",
    "\n",
    "Ainsi, étant donné les valeurs des multiplicateurs de Lagrange ici, les contraintes associées aux valeurs non nulles des multiplicateurs de Lagrange sont actives, c'est-à-dire les contraintes associées à $\\lambda_1$ et à $\\lambda_4$ donc les contraintes suivantes : \n",
    "\n",
    "\\begin{align*}\n",
    "\\\\0 \\leq x_3 \n",
    "\\\\x_1^2+x_2^2+x_3^2 \\leq 2\n",
    "\\end{align*}\n",
    "\n",
    "En effet, étant donné $\\lambda_2\\leq10^{-5}$ et $\\lambda_3\\leq10^{-5}$, on fait l'approcimation qu'elles sont nulles, et donc inactives. "
   ]
  },
  {
   "cell_type": "markdown",
   "metadata": {},
   "source": [
    "### 3) Les conditions de complémentarité sont-elles satisfaites ? \n",
    "\n",
    "Les conditions de complémentarité sont satisfaites si et seulement si : \n",
    "\\begin{align*}\n",
    "\\lambda_ig_i(x^*)=0\n",
    "\\end{align*}\n",
    "pour i =1,..,m\n",
    "\n",
    "Ici, étant donné les formules ayant permis d'obtenir l'approximation des multiplicateurs de Lagrange, on obtiendra toujours :  \n",
    "\\begin{align*}\n",
    "\\lambda_ig_i(x^*)=-\\rho \\hspace{0.5cm} \\forall i\n",
    "\\end{align*}\n",
    "\n",
    "Or, on a pour valeurs de $\\rho$ :"
   ]
  },
  {
   "cell_type": "code",
   "execution_count": 19,
   "metadata": {},
   "outputs": [
    {
     "name": "stdout",
     "output_type": "stream",
     "text": [
      "9.213519268958691e-06\n"
     ]
    }
   ],
   "source": [
    "print(rho)"
   ]
  },
  {
   "cell_type": "markdown",
   "metadata": {},
   "source": [
    "Ainsi, on a $\\rho\\leq10^{-5}$.\n",
    "Donc puisque les valeurs de $x$ et de $\\lambda_i$ et même de $g_i(x)$ dont approximées, ont peut se dire que \n",
    "\\begin{align*}\n",
    "\\lambda_ig_i(x^*)\\approx0\\hspace{0.5cm} \\forall i\n",
    "\\end{align*}\n",
    "et donc que \n",
    "\\begin{align*}\n",
    "\\lambda_ig_i(x^*)=0\\hspace{0.5cm} \\forall i\n",
    "\\end{align*}\n",
    "\n",
    "**Ainsi, à une certaines approximation près, les conditions de complémentarité sont satisfaites.**"
   ]
  }
 ],
 "metadata": {
  "kernelspec": {
   "display_name": "Python 3",
   "language": "python",
   "name": "python3"
  },
  "language_info": {
   "codemirror_mode": {
    "name": "ipython",
    "version": 3
   },
   "file_extension": ".py",
   "mimetype": "text/x-python",
   "name": "python",
   "nbconvert_exporter": "python",
   "pygments_lexer": "ipython3",
   "version": "3.7.4"
  },
  "toc": {
   "base_numbering": 1,
   "nav_menu": {},
   "number_sections": true,
   "sideBar": true,
   "skip_h1_title": true,
   "title_cell": "Table of Contents",
   "title_sidebar": "Contents",
   "toc_cell": false,
   "toc_position": {
    "height": "calc(100% - 180px)",
    "left": "10px",
    "top": "150px",
    "width": "165px"
   },
   "toc_section_display": true,
   "toc_window_display": true
  }
 },
 "nbformat": 4,
 "nbformat_minor": 2
}
