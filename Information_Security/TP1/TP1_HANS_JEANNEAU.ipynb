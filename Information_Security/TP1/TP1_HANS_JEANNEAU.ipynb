{
 "cells": [
  {
   "cell_type": "markdown",
   "metadata": {},
   "source": [
    "# Adrien HANS & Tanguy JEANNEAU"
   ]
  },
  {
   "cell_type": "markdown",
   "metadata": {},
   "source": [
    "# Entropie et génération de mots de passe\n",
    "* Nous considérons un générateur de mots de passe qui consiste à prendre **8 lettres consécutives dans un texte** (sans se soucier des espaces).\n",
    "* Nous faisons l'hypothèse que le texte n'est composé que des 26 lettres de l'alphabet, sans majuscules ni accents\n",
    "* Nous proposons de calculer l'entropie d'une telle source, en fonction du modèle probabiliste considéré, et de calculer le temps moyen nécessaire pour trouver un mot de passe à partir de ce modèle. \n",
    "\n",
    "**Merci de commenter vos réponses**"
   ]
  },
  {
   "cell_type": "code",
   "execution_count": 1,
   "metadata": {},
   "outputs": [],
   "source": [
    "import numpy as np\n",
    "from numpy import genfromtxt\n",
    "from pandas import read_csv\n",
    "import pandas as pd\n",
    "import time"
   ]
  },
  {
   "cell_type": "markdown",
   "metadata": {},
   "source": [
    "#### Modèle monogramme (une lettre)\n",
    "* On récupére des données composées de [lettre,frequence d'apparition de la lettre] (voir fichier csv pour [comma-separated-value](https://en.wikipedia.org/wiki/Comma-separated_values)) "
   ]
  },
  {
   "cell_type": "code",
   "execution_count": 2,
   "metadata": {},
   "outputs": [],
   "source": [
    "monogramme = read_csv('monogramme.csv')\n",
    "freq_mono = (monogramme['frequency']).values\n",
    "letters_mono = (monogramme['letters']).values"
   ]
  },
  {
   "cell_type": "markdown",
   "metadata": {},
   "source": [
    "Q: Quelles sont les 5 lettres les plus représentées ?"
   ]
  },
  {
   "cell_type": "code",
   "execution_count": 3,
   "metadata": {},
   "outputs": [
    {
     "data": {
      "text/html": [
       "<div>\n",
       "<style scoped>\n",
       "    .dataframe tbody tr th:only-of-type {\n",
       "        vertical-align: middle;\n",
       "    }\n",
       "\n",
       "    .dataframe tbody tr th {\n",
       "        vertical-align: top;\n",
       "    }\n",
       "\n",
       "    .dataframe thead th {\n",
       "        text-align: right;\n",
       "    }\n",
       "</style>\n",
       "<table border=\"1\" class=\"dataframe\">\n",
       "  <thead>\n",
       "    <tr style=\"text-align: right;\">\n",
       "      <th></th>\n",
       "      <th>letters</th>\n",
       "      <th>frequency</th>\n",
       "    </tr>\n",
       "  </thead>\n",
       "  <tbody>\n",
       "    <tr>\n",
       "      <th>0</th>\n",
       "      <td>E</td>\n",
       "      <td>0.1776</td>\n",
       "    </tr>\n",
       "    <tr>\n",
       "      <th>1</th>\n",
       "      <td>S</td>\n",
       "      <td>0.0823</td>\n",
       "    </tr>\n",
       "    <tr>\n",
       "      <th>2</th>\n",
       "      <td>A</td>\n",
       "      <td>0.0768</td>\n",
       "    </tr>\n",
       "    <tr>\n",
       "      <th>3</th>\n",
       "      <td>N</td>\n",
       "      <td>0.0761</td>\n",
       "    </tr>\n",
       "    <tr>\n",
       "      <th>4</th>\n",
       "      <td>T</td>\n",
       "      <td>0.0730</td>\n",
       "    </tr>\n",
       "  </tbody>\n",
       "</table>\n",
       "</div>"
      ],
      "text/plain": [
       "  letters  frequency\n",
       "0       E     0.1776\n",
       "1       S     0.0823\n",
       "2       A     0.0768\n",
       "3       N     0.0761\n",
       "4       T     0.0730"
      ]
     },
     "execution_count": 3,
     "metadata": {},
     "output_type": "execute_result"
    }
   ],
   "source": [
    "monogramme.head()"
   ]
  },
  {
   "cell_type": "markdown",
   "metadata": {},
   "source": [
    "`monogramme` trié de la plus grande fréquence à la plus faible. \n",
    "Il faut donc seulement prendre les 5 premiers élèments de `letters_mono`"
   ]
  },
  {
   "cell_type": "code",
   "execution_count": 4,
   "metadata": {},
   "outputs": [
    {
     "data": {
      "text/plain": [
       "array(['E', 'S', 'A', 'N', 'T'], dtype=object)"
      ]
     },
     "execution_count": 4,
     "metadata": {},
     "output_type": "execute_result"
    }
   ],
   "source": [
    "letters_mono[:5]"
   ]
  },
  {
   "cell_type": "markdown",
   "metadata": {},
   "source": [
    "Voici une fonction qui calcule l'entropie à partir d'un vecteur constitué de probabilités empiriques (note, je vous épargne le codage de cette fonction, car en moyenne vous passerez 15mn à gérer le cas `freq_bis==0`, mais il n'est pas inutile de bien comprendre ces 4 lignes)."
   ]
  },
  {
   "cell_type": "code",
   "execution_count": 5,
   "metadata": {},
   "outputs": [],
   "source": [
    "def entropie(freq):\n",
    "    freq_bis = np.copy(freq)\n",
    "    freq_bis[freq_bis==0] = 1.0\n",
    "    ent = -np.sum(freq_bis*np.log2(freq_bis))\n",
    "    return ent"
   ]
  },
  {
   "cell_type": "markdown",
   "metadata": {},
   "source": [
    "Q: en utilisant ce modèle probabiliste pour générer un mot de passe, quelle est l'entropie d'un mot de passe de 8 lettres ?"
   ]
  },
  {
   "cell_type": "markdown",
   "metadata": {},
   "source": [
    "On suppose que l'apparition de lettres successives est indépendante, d'où : $H(X,Y)=H(X)+H(Y)$ \n",
    "\n",
    "Et donc l'entropie d'un mod de passe de 8 lettres est égale à 8 fois celui d'une lettre : "
   ]
  },
  {
   "cell_type": "code",
   "execution_count": 6,
   "metadata": {
    "scrolled": true
   },
   "outputs": [
    {
     "name": "stdout",
     "output_type": "stream",
     "text": [
      "L'entropie d'un mot de passe de 8 lettres est :  31.676242429778334  bits\n"
     ]
    }
   ],
   "source": [
    "#Pour 8 lettres : \n",
    "ent = entropie(freq_mono)*8\n",
    "print(\"L'entropie d'un mot de passe de 8 lettres est : \", ent, \" bits\")"
   ]
  },
  {
   "cell_type": "markdown",
   "metadata": {},
   "source": [
    "Q: A l'aide de la fonction `np.random.choice()`, calculer le temps nécessaire en secondes pour tirer 100 000 mots de passes en utilisant ce générateur ?"
   ]
  },
  {
   "cell_type": "code",
   "execution_count": 7,
   "metadata": {},
   "outputs": [
    {
     "name": "stdout",
     "output_type": "stream",
     "text": [
      "generated 1.00e+05 passwords in 0.077 s\n"
     ]
    }
   ],
   "source": [
    "def generate_pwds(n, letters=letters_mono, freq=freq_mono, i=8):\n",
    "    t = time.time()\n",
    "    a = np.random.choice(letters_mono, size=(int(n),i), p=freq_mono)\n",
    "    t_s = time.time() - t\n",
    "    print('generated {:.2e} passwords in {:.3f} s'.format(n, t_s))\n",
    "    return a, t_s\n",
    "\n",
    "_, t_1e5 = generate_pwds(1e5)"
   ]
  },
  {
   "cell_type": "markdown",
   "metadata": {},
   "source": [
    "Tandis qu'avec une boucle `for` :"
   ]
  },
  {
   "cell_type": "code",
   "execution_count": 8,
   "metadata": {},
   "outputs": [
    {
     "name": "stdout",
     "output_type": "stream",
     "text": [
      "8.036882162094116 s\n"
     ]
    }
   ],
   "source": [
    "t = time.time()\n",
    "for i in range(100000):\n",
    "    np.random.choice(letters_mono, size=(8), p=freq_mono)\n",
    "t_100000 = time.time() - t\n",
    "print(t_100000, 's')"
   ]
  },
  {
   "cell_type": "markdown",
   "metadata": {},
   "source": [
    "**Le plus rapide est donc assez largement de définir la taille voulue directement dans `np.random.choice` plutôt que d'utiliser une boucle `for`**"
   ]
  },
  {
   "cell_type": "markdown",
   "metadata": {},
   "source": [
    "Nous definissons l'\"entropie du devin\" G (guessing entropie) comme le **nombre moyen d'essais successif nécessaires pour trouver un mot de passe à partir de notre générateur**.\n",
    "On peut montrer que $G\\geq H/4+1$ où $H$ est l'entropie de la source (voir [ce papier](./Password_Entropy_and_Password_Quality.pdf) )"
   ]
  },
  {
   "cell_type": "markdown",
   "metadata": {},
   "source": [
    "Q: calculer $G$ pour ce modèle"
   ]
  },
  {
   "cell_type": "code",
   "execution_count": 9,
   "metadata": {},
   "outputs": [
    {
     "name": "stdout",
     "output_type": "stream",
     "text": [
      "G= 8.58e+08\n"
     ]
    }
   ],
   "source": [
    "def compute_G(H):\n",
    "    G = (2**H)/4 +1\n",
    "    print('G = {:.2e}'.format(G))\n",
    "    return G\n",
    "\n",
    "G = compute_G(ent)"
   ]
  },
  {
   "cell_type": "markdown",
   "metadata": {},
   "source": [
    "Q: combien de temps cela prendra-t-il en utilisant le générateur codé précédemment ? (en minutes)"
   ]
  },
  {
   "cell_type": "code",
   "execution_count": 10,
   "metadata": {},
   "outputs": [
    {
     "name": "stdout",
     "output_type": "stream",
     "text": [
      "generated 1.00e+04 passwords in 0.005 s\n",
      "generated 1.00e+05 passwords in 0.065 s\n",
      "generated 1.00e+06 passwords in 0.810 s\n",
      "generated 1.00e+07 passwords in 8.202 s\n"
     ]
    }
   ],
   "source": [
    "_, t_1e4 = generate_pwds(1e4)\n",
    "_, t_1e5 = generate_pwds(1e5)\n",
    "_, t_1e6 = generate_pwds(1e6)\n",
    "_, t_1e7 = generate_pwds(1e7)"
   ]
  },
  {
   "cell_type": "markdown",
   "metadata": {},
   "source": [
    "**On observe que le temps nécessaire pour générer i mots de passe de 8 lettres en utilisant le générateur codé précedemment est linéaire en i.** "
   ]
  },
  {
   "cell_type": "code",
   "execution_count": 11,
   "metadata": {},
   "outputs": [
    {
     "name": "stdout",
     "output_type": "stream",
     "text": [
      "Temps nécessaire pour générer G mots de passe : 11.58 min\n"
     ]
    }
   ],
   "source": [
    "def compute_time(G, t, nb_t):\n",
    "    tG = (G/(nb_t)) * t / 60\n",
    "    print('Temps nécessaire pour générer G mots de passe : {:.2f} min'.format(tG))\n",
    "    \n",
    "compute_time(G, t_1e6, 1e6)"
   ]
  },
  {
   "cell_type": "markdown",
   "metadata": {},
   "source": [
    "On propose maintenant d'utiliser un modèle plus évolué qui est construit à partir de la probabilité conjointe de deux lettres successives (bigramme)"
   ]
  },
  {
   "cell_type": "code",
   "execution_count": 12,
   "metadata": {},
   "outputs": [],
   "source": [
    "bigramme = read_csv('bigramme.csv')\n",
    "freq_bi = (bigramme['frequency']).values\n",
    "letters_bi = (bigramme['letters']).values"
   ]
  },
  {
   "cell_type": "markdown",
   "metadata": {},
   "source": [
    "Q: Quelles sont les 5 couples de lettres les plus représentés ?"
   ]
  },
  {
   "cell_type": "code",
   "execution_count": 13,
   "metadata": {},
   "outputs": [
    {
     "data": {
      "text/html": [
       "<div>\n",
       "<style scoped>\n",
       "    .dataframe tbody tr th:only-of-type {\n",
       "        vertical-align: middle;\n",
       "    }\n",
       "\n",
       "    .dataframe tbody tr th {\n",
       "        vertical-align: top;\n",
       "    }\n",
       "\n",
       "    .dataframe thead th {\n",
       "        text-align: right;\n",
       "    }\n",
       "</style>\n",
       "<table border=\"1\" class=\"dataframe\">\n",
       "  <thead>\n",
       "    <tr style=\"text-align: right;\">\n",
       "      <th></th>\n",
       "      <th>letters</th>\n",
       "      <th>frequency</th>\n",
       "    </tr>\n",
       "  </thead>\n",
       "  <tbody>\n",
       "    <tr>\n",
       "      <th>0</th>\n",
       "      <td>AA</td>\n",
       "      <td>0.000252</td>\n",
       "    </tr>\n",
       "    <tr>\n",
       "      <th>1</th>\n",
       "      <td>AB</td>\n",
       "      <td>0.001760</td>\n",
       "    </tr>\n",
       "    <tr>\n",
       "      <th>2</th>\n",
       "      <td>AC</td>\n",
       "      <td>0.003482</td>\n",
       "    </tr>\n",
       "    <tr>\n",
       "      <th>3</th>\n",
       "      <td>AD</td>\n",
       "      <td>0.001960</td>\n",
       "    </tr>\n",
       "    <tr>\n",
       "      <th>4</th>\n",
       "      <td>AE</td>\n",
       "      <td>0.000200</td>\n",
       "    </tr>\n",
       "  </tbody>\n",
       "</table>\n",
       "</div>"
      ],
      "text/plain": [
       "  letters  frequency\n",
       "0      AA   0.000252\n",
       "1      AB   0.001760\n",
       "2      AC   0.003482\n",
       "3      AD   0.001960\n",
       "4      AE   0.000200"
      ]
     },
     "execution_count": 13,
     "metadata": {},
     "output_type": "execute_result"
    }
   ],
   "source": [
    "bigramme.head(5)"
   ]
  },
  {
   "cell_type": "markdown",
   "metadata": {},
   "source": [
    "`bigramme` n'est pas trié en fonction de la fréquence."
   ]
  },
  {
   "cell_type": "code",
   "execution_count": 14,
   "metadata": {},
   "outputs": [],
   "source": [
    "bigramme.sort_values('frequency', ascending=False, inplace=True)"
   ]
  },
  {
   "cell_type": "code",
   "execution_count": 15,
   "metadata": {},
   "outputs": [
    {
     "data": {
      "text/html": [
       "<div>\n",
       "<style scoped>\n",
       "    .dataframe tbody tr th:only-of-type {\n",
       "        vertical-align: middle;\n",
       "    }\n",
       "\n",
       "    .dataframe tbody tr th {\n",
       "        vertical-align: top;\n",
       "    }\n",
       "\n",
       "    .dataframe thead th {\n",
       "        text-align: right;\n",
       "    }\n",
       "</style>\n",
       "<table border=\"1\" class=\"dataframe\">\n",
       "  <thead>\n",
       "    <tr style=\"text-align: right;\">\n",
       "      <th></th>\n",
       "      <th>letters</th>\n",
       "      <th>frequency</th>\n",
       "    </tr>\n",
       "  </thead>\n",
       "  <tbody>\n",
       "    <tr>\n",
       "      <th>122</th>\n",
       "      <td>ES</td>\n",
       "      <td>0.023809</td>\n",
       "    </tr>\n",
       "    <tr>\n",
       "      <th>117</th>\n",
       "      <td>EN</td>\n",
       "      <td>0.021248</td>\n",
       "    </tr>\n",
       "    <tr>\n",
       "      <th>82</th>\n",
       "      <td>DE</td>\n",
       "      <td>0.019570</td>\n",
       "    </tr>\n",
       "    <tr>\n",
       "      <th>290</th>\n",
       "      <td>LE</td>\n",
       "      <td>0.018845</td>\n",
       "    </tr>\n",
       "    <tr>\n",
       "      <th>357</th>\n",
       "      <td>NT</td>\n",
       "      <td>0.017009</td>\n",
       "    </tr>\n",
       "  </tbody>\n",
       "</table>\n",
       "</div>"
      ],
      "text/plain": [
       "    letters  frequency\n",
       "122      ES   0.023809\n",
       "117      EN   0.021248\n",
       "82       DE   0.019570\n",
       "290      LE   0.018845\n",
       "357      NT   0.017009"
      ]
     },
     "execution_count": 15,
     "metadata": {},
     "output_type": "execute_result"
    }
   ],
   "source": [
    "bigramme.head()"
   ]
  },
  {
   "cell_type": "markdown",
   "metadata": {},
   "source": [
    "Maintenant `bigramme` est trié en fonction de la fréquence."
   ]
  },
  {
   "cell_type": "markdown",
   "metadata": {},
   "source": [
    "Q: en utilisant ce modèle probabiliste pour générer un mot de passe, quelle est l'entropie d'un mot de passe de 8 lettres ?"
   ]
  },
  {
   "cell_type": "markdown",
   "metadata": {},
   "source": [
    "**On suppose que chaque couple est indépendant et donc que pour créer un mot de passe de 8 lettres il faut générer 4 couples de lettres, d'où l'entropie :**"
   ]
  },
  {
   "cell_type": "code",
   "execution_count": 16,
   "metadata": {},
   "outputs": [
    {
     "name": "stdout",
     "output_type": "stream",
     "text": [
      "L'entropie d'un mot de passe de 8 lettres en utilisant monogramme est :  31.676242429778334  bits\n",
      "L'entropie d'un mot de passe de 8 lettres en utilisant bigramme est :  30.14226404646422  bits\n"
     ]
    }
   ],
   "source": [
    "ent_bi = 4*entropie(freq_bi)\n",
    "print(\"L'entropie d'un mot de passe de 8 lettres en utilisant monogramme est : \", ent, \" bits\")\n",
    "print(\"L'entropie d'un mot de passe de 8 lettres en utilisant bigramme est : \", ent_bi, \" bits\")"
   ]
  },
  {
   "cell_type": "markdown",
   "metadata": {},
   "source": [
    "Q: Pourquoi cette entropie est-elle inférieure à celle du modèle construit sur des monogrammes ?"
   ]
  },
  {
   "cell_type": "markdown",
   "metadata": {},
   "source": [
    "**Dans le cas général : $H(H,Y)\\leq H(X) + H(Y)$  et $H(H,Y)= H(X) + H(Y)$ si et seulement si X et Y indépendants. \n",
    "Donc puisqu'on introduit une dépendance dans ce modèle avec `bigramme`, il est logique que l'entropie soit réduite.**"
   ]
  },
  {
   "cell_type": "markdown",
   "metadata": {},
   "source": [
    "Q: A l'aide de la fonction `np.random.choice()`, calculer le temps nécessaire en secondes pour tirer 100 000 mots de passes en utilisant ce générateur ?"
   ]
  },
  {
   "cell_type": "code",
   "execution_count": 17,
   "metadata": {},
   "outputs": [
    {
     "name": "stdout",
     "output_type": "stream",
     "text": [
      "generated 1.00e+05 passwords in 0.038 s\n"
     ]
    }
   ],
   "source": [
    "_, t_1e5_bi = generate_pwds(1e5, freq=freq_bi, letters=letters_bi, i=4)"
   ]
  },
  {
   "cell_type": "markdown",
   "metadata": {},
   "source": [
    "Q: calculer G pour ce modèle"
   ]
  },
  {
   "cell_type": "code",
   "execution_count": 18,
   "metadata": {},
   "outputs": [
    {
     "name": "stdout",
     "output_type": "stream",
     "text": [
      "G= 2.96e+08\n"
     ]
    }
   ],
   "source": [
    "G_bi = compute_G(ent_bi)"
   ]
  },
  {
   "cell_type": "markdown",
   "metadata": {},
   "source": [
    "Q: combien de temps cela prendra-t-il en utilisant le générateur codé précédemment ? (en minutes)"
   ]
  },
  {
   "cell_type": "code",
   "execution_count": 19,
   "metadata": {},
   "outputs": [
    {
     "name": "stdout",
     "output_type": "stream",
     "text": [
      "generated 1.00e+04 passwords in 0.004 s\n",
      "generated 1.00e+05 passwords in 0.043 s\n",
      "generated 1.00e+06 passwords in 0.499 s\n",
      "generated 1.00e+07 passwords in 4.174 s\n"
     ]
    }
   ],
   "source": [
    "_, t_1e4 = generate_pwds(1e4,freq=freq_bi, letters=letters_bi, i=4)\n",
    "_, t_1e5 = generate_pwds(1e5,freq=freq_bi, letters=letters_bi, i=4)\n",
    "_, t_1e6 = generate_pwds(1e6,freq=freq_bi, letters=letters_bi, i=4)\n",
    "_, t_1e7 = generate_pwds(1e7,freq=freq_bi, letters=letters_bi, i=4)"
   ]
  },
  {
   "cell_type": "markdown",
   "metadata": {},
   "source": [
    "**On observe que le temps nécessaire pour générer i mots de passe de 8 lettres en utilisant le modèle avec bigramme et le  générateur codé précedemment est linéaire en i.** "
   ]
  },
  {
   "cell_type": "code",
   "execution_count": 20,
   "metadata": {},
   "outputs": [
    {
     "name": "stdout",
     "output_type": "stream",
     "text": [
      "Temps nécessaire pour générer G mots de passe : 2.46 min\n"
     ]
    }
   ],
   "source": [
    "compute_time(G_bi, t_1e6, 1e6)"
   ]
  },
  {
   "cell_type": "markdown",
   "metadata": {},
   "source": [
    "Q: si maintenant on change de stratégie et on tire aléatoirement chaque lettre de l'alphabet de façon uniforme, quelle est l'entropie de ce générateur ?"
   ]
  },
  {
   "cell_type": "markdown",
   "metadata": {},
   "source": [
    "On tire aléatoirement chaque lettre de l'alphabet de façon uniforme, d'où ici la frequence de chaque lettre associée :"
   ]
  },
  {
   "cell_type": "code",
   "execution_count": 21,
   "metadata": {},
   "outputs": [],
   "source": [
    "freq_rnd = [1/26]*26"
   ]
  },
  {
   "cell_type": "markdown",
   "metadata": {},
   "source": [
    "On utilise les mêmes hypothèses d'indépendance et les mêmes fonctions que précedemment :"
   ]
  },
  {
   "cell_type": "code",
   "execution_count": 22,
   "metadata": {},
   "outputs": [
    {
     "name": "stdout",
     "output_type": "stream",
     "text": [
      "L'entropie d'un mot de passe de 8 lettres en tirant aléatoirement chaque lettre est :  37.603517745128734  bits\n"
     ]
    }
   ],
   "source": [
    "#Pour 8 lettres : \n",
    "ent_rnd = entropie(freq_rnd)*8\n",
    "print(\"L'entropie d'un mot de passe de 8 lettres en tirant aléatoirement chaque lettre est : \", ent_rnd, \" bits\")"
   ]
  },
  {
   "cell_type": "markdown",
   "metadata": {},
   "source": [
    "Q: A l'aide de la fonction `np.random.choice()`, calculer le temps nécessaire en secondes pour tirer 100 000 mots de passes en utilisant ce générateur ?"
   ]
  },
  {
   "cell_type": "code",
   "execution_count": 23,
   "metadata": {},
   "outputs": [
    {
     "name": "stdout",
     "output_type": "stream",
     "text": [
      "generated 1.00e+05 passwords in 0.101 s\n"
     ]
    }
   ],
   "source": [
    "_, _ = generate_pwds(1e5, letters=letters_mono, freq=freq_rnd, i=8)"
   ]
  },
  {
   "cell_type": "markdown",
   "metadata": {},
   "source": [
    "Q: calculer G pour ce modèle"
   ]
  },
  {
   "cell_type": "code",
   "execution_count": 24,
   "metadata": {},
   "outputs": [
    {
     "name": "stdout",
     "output_type": "stream",
     "text": [
      "G= 5.22e+10\n"
     ]
    }
   ],
   "source": [
    "G_rnd = compute_G(ent_rnd)"
   ]
  },
  {
   "cell_type": "markdown",
   "metadata": {},
   "source": [
    "Q: combien de temps cela prendra-t-il en utilisant le générateur codé précédemment ? (en minutes)"
   ]
  },
  {
   "cell_type": "markdown",
   "metadata": {},
   "source": [
    "**On sait déjà avec les questions précédentes, que le générateur de mots de passe est de compléxité linéaire en le nombre de mots de passe à générer, d'où :**"
   ]
  },
  {
   "cell_type": "code",
   "execution_count": 25,
   "metadata": {},
   "outputs": [
    {
     "name": "stdout",
     "output_type": "stream",
     "text": [
      "generated 1.00e+06 passwords in 0.860 s\n",
      "Temps nécessaire pour générer G mots de passe : 748.04 min\n"
     ]
    }
   ],
   "source": [
    "_, t_1e6 = generate_pwds(1e6, letters=letters_mono, freq=freq_rnd, i=8)\n",
    "compute_time(G_rnd, t_1e6, 1e6)"
   ]
  },
  {
   "cell_type": "markdown",
   "metadata": {},
   "source": [
    "#### Conclure sur les liens entre la sécurité d'un générateur de mot de passe et le modèle probabilistique considéré"
   ]
  },
  {
   "cell_type": "markdown",
   "metadata": {},
   "source": [
    "**Nous avons observé que plus on a d'informations sur la distribution des mots de passe, plus l'entropie $H$ et 'l'entropie du devin' $G$ diminue, et donc moins il faudra de tentative pour trouver le bon mot de passe.**\n",
    "\n",
    "**De même, puisque nous avons observé que le générateur de mots de passe est de complexité linéaire en le nombre de mots de passe à générer, il faudra moins de temps pour trouver le bon.** \n",
    "\n",
    "Tout cela était logique avec la formule : \n",
    "\\begin{align*}\n",
    "H(X,Y) \\leq H(X) + H(Y)\n",
    "\\end{align*}\n",
    "\n",
    "avec \n",
    "\\begin{align*}\n",
    "H(X,Y)=H(X)+H(Y)\n",
    "\\end{align*}\n",
    "\n",
    "si et seulement si X et Y indépendants. \n",
    "\n",
    "**Ainsi, trouver des dépendances entre les lettres ou bien des informations quant à leur fréqeunce d'apparition permet de diminuer l'entropie $H$, l'entropie du devin $G$ et le temps mis pour trouver le mot de passe.** "
   ]
  }
 ],
 "metadata": {
  "kernelspec": {
   "display_name": "Python 3",
   "language": "python",
   "name": "python3"
  },
  "language_info": {
   "codemirror_mode": {
    "name": "ipython",
    "version": 3
   },
   "file_extension": ".py",
   "mimetype": "text/x-python",
   "name": "python",
   "nbconvert_exporter": "python",
   "pygments_lexer": "ipython3",
   "version": "3.7.4"
  },
  "toc": {
   "base_numbering": 1,
   "nav_menu": {},
   "number_sections": true,
   "sideBar": true,
   "skip_h1_title": true,
   "title_cell": "Table of Contents",
   "title_sidebar": "Contents",
   "toc_cell": false,
   "toc_position": {},
   "toc_section_display": true,
   "toc_window_display": true
  }
 },
 "nbformat": 4,
 "nbformat_minor": 2
}
